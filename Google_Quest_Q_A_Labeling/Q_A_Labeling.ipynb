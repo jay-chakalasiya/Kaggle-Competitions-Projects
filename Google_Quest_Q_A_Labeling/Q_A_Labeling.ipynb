{
 "cells": [
  {
   "cell_type": "code",
   "execution_count": 3,
   "metadata": {
    "ExecuteTime": {
     "end_time": "2019-12-20T21:54:32.857266Z",
     "start_time": "2019-12-20T21:54:32.851291Z"
    }
   },
   "outputs": [],
   "source": [
    "import numpy as np\n",
    "import pandas as pd\n",
    "import os\n",
    "PATH = './google-quest-challenge/'"
   ]
  },
  {
   "cell_type": "code",
   "execution_count": 5,
   "metadata": {
    "ExecuteTime": {
     "end_time": "2019-12-20T21:55:54.043653Z",
     "start_time": "2019-12-20T21:55:53.689536Z"
    }
   },
   "outputs": [],
   "source": [
    "train_data = pd.read_csv(PATH+'train.csv')\n",
    "test_data = pd.read_csv(PATH+'test.csv')\n",
    "sample_submission = pd.read_csv(PATH+'sample_submission.csv')"
   ]
  },
  {
   "cell_type": "code",
   "execution_count": 6,
   "metadata": {
    "ExecuteTime": {
     "end_time": "2019-12-20T21:56:04.419558Z",
     "start_time": "2019-12-20T21:56:04.385614Z"
    }
   },
   "outputs": [
    {
     "data": {
      "text/html": [
       "<div>\n",
       "<style scoped>\n",
       "    .dataframe tbody tr th:only-of-type {\n",
       "        vertical-align: middle;\n",
       "    }\n",
       "\n",
       "    .dataframe tbody tr th {\n",
       "        vertical-align: top;\n",
       "    }\n",
       "\n",
       "    .dataframe thead th {\n",
       "        text-align: right;\n",
       "    }\n",
       "</style>\n",
       "<table border=\"1\" class=\"dataframe\">\n",
       "  <thead>\n",
       "    <tr style=\"text-align: right;\">\n",
       "      <th></th>\n",
       "      <th>qa_id</th>\n",
       "      <th>question_title</th>\n",
       "      <th>question_body</th>\n",
       "      <th>question_user_name</th>\n",
       "      <th>question_user_page</th>\n",
       "      <th>answer</th>\n",
       "      <th>answer_user_name</th>\n",
       "      <th>answer_user_page</th>\n",
       "      <th>url</th>\n",
       "      <th>category</th>\n",
       "      <th>...</th>\n",
       "      <th>question_well_written</th>\n",
       "      <th>answer_helpful</th>\n",
       "      <th>answer_level_of_information</th>\n",
       "      <th>answer_plausible</th>\n",
       "      <th>answer_relevance</th>\n",
       "      <th>answer_satisfaction</th>\n",
       "      <th>answer_type_instructions</th>\n",
       "      <th>answer_type_procedure</th>\n",
       "      <th>answer_type_reason_explanation</th>\n",
       "      <th>answer_well_written</th>\n",
       "    </tr>\n",
       "  </thead>\n",
       "  <tbody>\n",
       "    <tr>\n",
       "      <th>0</th>\n",
       "      <td>0</td>\n",
       "      <td>What am I losing when using extension tubes in...</td>\n",
       "      <td>After playing around with macro photography on...</td>\n",
       "      <td>ysap</td>\n",
       "      <td>https://photo.stackexchange.com/users/1024</td>\n",
       "      <td>I just got extension tubes, so here's the skin...</td>\n",
       "      <td>rfusca</td>\n",
       "      <td>https://photo.stackexchange.com/users/1917</td>\n",
       "      <td>http://photo.stackexchange.com/questions/9169/...</td>\n",
       "      <td>LIFE_ARTS</td>\n",
       "      <td>...</td>\n",
       "      <td>1.000000</td>\n",
       "      <td>1.000000</td>\n",
       "      <td>0.666667</td>\n",
       "      <td>1.000000</td>\n",
       "      <td>1.000000</td>\n",
       "      <td>0.800000</td>\n",
       "      <td>1.0</td>\n",
       "      <td>0.000000</td>\n",
       "      <td>0.000000</td>\n",
       "      <td>1.000000</td>\n",
       "    </tr>\n",
       "    <tr>\n",
       "      <th>1</th>\n",
       "      <td>1</td>\n",
       "      <td>What is the distinction between a city and a s...</td>\n",
       "      <td>I am trying to understand what kinds of places...</td>\n",
       "      <td>russellpierce</td>\n",
       "      <td>https://rpg.stackexchange.com/users/8774</td>\n",
       "      <td>It might be helpful to look into the definitio...</td>\n",
       "      <td>Erik Schmidt</td>\n",
       "      <td>https://rpg.stackexchange.com/users/1871</td>\n",
       "      <td>http://rpg.stackexchange.com/questions/47820/w...</td>\n",
       "      <td>CULTURE</td>\n",
       "      <td>...</td>\n",
       "      <td>0.888889</td>\n",
       "      <td>0.888889</td>\n",
       "      <td>0.555556</td>\n",
       "      <td>0.888889</td>\n",
       "      <td>0.888889</td>\n",
       "      <td>0.666667</td>\n",
       "      <td>0.0</td>\n",
       "      <td>0.000000</td>\n",
       "      <td>0.666667</td>\n",
       "      <td>0.888889</td>\n",
       "    </tr>\n",
       "    <tr>\n",
       "      <th>2</th>\n",
       "      <td>2</td>\n",
       "      <td>Maximum protusion length for through-hole comp...</td>\n",
       "      <td>I'm working on a PCB that has through-hole com...</td>\n",
       "      <td>Joe Baker</td>\n",
       "      <td>https://electronics.stackexchange.com/users/10157</td>\n",
       "      <td>Do you even need grooves?  We make several pro...</td>\n",
       "      <td>Dwayne Reid</td>\n",
       "      <td>https://electronics.stackexchange.com/users/64754</td>\n",
       "      <td>http://electronics.stackexchange.com/questions...</td>\n",
       "      <td>SCIENCE</td>\n",
       "      <td>...</td>\n",
       "      <td>0.777778</td>\n",
       "      <td>0.777778</td>\n",
       "      <td>0.555556</td>\n",
       "      <td>1.000000</td>\n",
       "      <td>1.000000</td>\n",
       "      <td>0.666667</td>\n",
       "      <td>0.0</td>\n",
       "      <td>0.333333</td>\n",
       "      <td>1.000000</td>\n",
       "      <td>0.888889</td>\n",
       "    </tr>\n",
       "    <tr>\n",
       "      <th>3</th>\n",
       "      <td>3</td>\n",
       "      <td>Can an affidavit be used in Beit Din?</td>\n",
       "      <td>An affidavit, from what i understand, is basic...</td>\n",
       "      <td>Scimonster</td>\n",
       "      <td>https://judaism.stackexchange.com/users/5151</td>\n",
       "      <td>Sending an \"affidavit\" it is a dispute between...</td>\n",
       "      <td>Y     e     z</td>\n",
       "      <td>https://judaism.stackexchange.com/users/4794</td>\n",
       "      <td>http://judaism.stackexchange.com/questions/551...</td>\n",
       "      <td>CULTURE</td>\n",
       "      <td>...</td>\n",
       "      <td>0.888889</td>\n",
       "      <td>0.833333</td>\n",
       "      <td>0.333333</td>\n",
       "      <td>0.833333</td>\n",
       "      <td>1.000000</td>\n",
       "      <td>0.800000</td>\n",
       "      <td>0.0</td>\n",
       "      <td>0.000000</td>\n",
       "      <td>1.000000</td>\n",
       "      <td>1.000000</td>\n",
       "    </tr>\n",
       "    <tr>\n",
       "      <th>4</th>\n",
       "      <td>5</td>\n",
       "      <td>How do you make a binary image in Photoshop?</td>\n",
       "      <td>I am trying to make a binary image. I want mor...</td>\n",
       "      <td>leigero</td>\n",
       "      <td>https://graphicdesign.stackexchange.com/users/...</td>\n",
       "      <td>Check out Image Trace in Adobe Illustrator. \\n...</td>\n",
       "      <td>q2ra</td>\n",
       "      <td>https://graphicdesign.stackexchange.com/users/...</td>\n",
       "      <td>http://graphicdesign.stackexchange.com/questio...</td>\n",
       "      <td>LIFE_ARTS</td>\n",
       "      <td>...</td>\n",
       "      <td>1.000000</td>\n",
       "      <td>1.000000</td>\n",
       "      <td>0.666667</td>\n",
       "      <td>1.000000</td>\n",
       "      <td>1.000000</td>\n",
       "      <td>0.800000</td>\n",
       "      <td>1.0</td>\n",
       "      <td>0.000000</td>\n",
       "      <td>1.000000</td>\n",
       "      <td>1.000000</td>\n",
       "    </tr>\n",
       "  </tbody>\n",
       "</table>\n",
       "<p>5 rows × 41 columns</p>\n",
       "</div>"
      ],
      "text/plain": [
       "   qa_id                                     question_title  \\\n",
       "0      0  What am I losing when using extension tubes in...   \n",
       "1      1  What is the distinction between a city and a s...   \n",
       "2      2  Maximum protusion length for through-hole comp...   \n",
       "3      3              Can an affidavit be used in Beit Din?   \n",
       "4      5       How do you make a binary image in Photoshop?   \n",
       "\n",
       "                                       question_body question_user_name  \\\n",
       "0  After playing around with macro photography on...               ysap   \n",
       "1  I am trying to understand what kinds of places...      russellpierce   \n",
       "2  I'm working on a PCB that has through-hole com...          Joe Baker   \n",
       "3  An affidavit, from what i understand, is basic...         Scimonster   \n",
       "4  I am trying to make a binary image. I want mor...            leigero   \n",
       "\n",
       "                                  question_user_page  \\\n",
       "0         https://photo.stackexchange.com/users/1024   \n",
       "1           https://rpg.stackexchange.com/users/8774   \n",
       "2  https://electronics.stackexchange.com/users/10157   \n",
       "3       https://judaism.stackexchange.com/users/5151   \n",
       "4  https://graphicdesign.stackexchange.com/users/...   \n",
       "\n",
       "                                              answer answer_user_name  \\\n",
       "0  I just got extension tubes, so here's the skin...           rfusca   \n",
       "1  It might be helpful to look into the definitio...     Erik Schmidt   \n",
       "2  Do you even need grooves?  We make several pro...      Dwayne Reid   \n",
       "3  Sending an \"affidavit\" it is a dispute between...    Y     e     z   \n",
       "4  Check out Image Trace in Adobe Illustrator. \\n...             q2ra   \n",
       "\n",
       "                                    answer_user_page  \\\n",
       "0         https://photo.stackexchange.com/users/1917   \n",
       "1           https://rpg.stackexchange.com/users/1871   \n",
       "2  https://electronics.stackexchange.com/users/64754   \n",
       "3       https://judaism.stackexchange.com/users/4794   \n",
       "4  https://graphicdesign.stackexchange.com/users/...   \n",
       "\n",
       "                                                 url   category  ...  \\\n",
       "0  http://photo.stackexchange.com/questions/9169/...  LIFE_ARTS  ...   \n",
       "1  http://rpg.stackexchange.com/questions/47820/w...    CULTURE  ...   \n",
       "2  http://electronics.stackexchange.com/questions...    SCIENCE  ...   \n",
       "3  http://judaism.stackexchange.com/questions/551...    CULTURE  ...   \n",
       "4  http://graphicdesign.stackexchange.com/questio...  LIFE_ARTS  ...   \n",
       "\n",
       "  question_well_written  answer_helpful  answer_level_of_information  \\\n",
       "0              1.000000        1.000000                     0.666667   \n",
       "1              0.888889        0.888889                     0.555556   \n",
       "2              0.777778        0.777778                     0.555556   \n",
       "3              0.888889        0.833333                     0.333333   \n",
       "4              1.000000        1.000000                     0.666667   \n",
       "\n",
       "   answer_plausible  answer_relevance  answer_satisfaction  \\\n",
       "0          1.000000          1.000000             0.800000   \n",
       "1          0.888889          0.888889             0.666667   \n",
       "2          1.000000          1.000000             0.666667   \n",
       "3          0.833333          1.000000             0.800000   \n",
       "4          1.000000          1.000000             0.800000   \n",
       "\n",
       "   answer_type_instructions  answer_type_procedure  \\\n",
       "0                       1.0               0.000000   \n",
       "1                       0.0               0.000000   \n",
       "2                       0.0               0.333333   \n",
       "3                       0.0               0.000000   \n",
       "4                       1.0               0.000000   \n",
       "\n",
       "   answer_type_reason_explanation  answer_well_written  \n",
       "0                        0.000000             1.000000  \n",
       "1                        0.666667             0.888889  \n",
       "2                        1.000000             0.888889  \n",
       "3                        1.000000             1.000000  \n",
       "4                        1.000000             1.000000  \n",
       "\n",
       "[5 rows x 41 columns]"
      ]
     },
     "execution_count": 6,
     "metadata": {},
     "output_type": "execute_result"
    }
   ],
   "source": [
    "train_data.head()"
   ]
  },
  {
   "cell_type": "code",
   "execution_count": 7,
   "metadata": {
    "ExecuteTime": {
     "end_time": "2019-12-20T21:57:54.279459Z",
     "start_time": "2019-12-20T21:57:54.272467Z"
    }
   },
   "outputs": [
    {
     "data": {
      "text/plain": [
       "Index(['qa_id', 'question_title', 'question_body', 'question_user_name',\n",
       "       'question_user_page', 'answer', 'answer_user_name', 'answer_user_page',\n",
       "       'url', 'category', 'host', 'question_asker_intent_understanding',\n",
       "       'question_body_critical', 'question_conversational',\n",
       "       'question_expect_short_answer', 'question_fact_seeking',\n",
       "       'question_has_commonly_accepted_answer',\n",
       "       'question_interestingness_others', 'question_interestingness_self',\n",
       "       'question_multi_intent', 'question_not_really_a_question',\n",
       "       'question_opinion_seeking', 'question_type_choice',\n",
       "       'question_type_compare', 'question_type_consequence',\n",
       "       'question_type_definition', 'question_type_entity',\n",
       "       'question_type_instructions', 'question_type_procedure',\n",
       "       'question_type_reason_explanation', 'question_type_spelling',\n",
       "       'question_well_written', 'answer_helpful',\n",
       "       'answer_level_of_information', 'answer_plausible', 'answer_relevance',\n",
       "       'answer_satisfaction', 'answer_type_instructions',\n",
       "       'answer_type_procedure', 'answer_type_reason_explanation',\n",
       "       'answer_well_written'],\n",
       "      dtype='object')"
      ]
     },
     "execution_count": 7,
     "metadata": {},
     "output_type": "execute_result"
    }
   ],
   "source": [
    "train_data.columns"
   ]
  },
  {
   "cell_type": "code",
   "execution_count": 12,
   "metadata": {
    "ExecuteTime": {
     "end_time": "2019-12-20T22:02:01.693931Z",
     "start_time": "2019-12-20T22:02:01.685957Z"
    }
   },
   "outputs": [
    {
     "data": {
      "text/plain": [
       "Index(['qa_id', 'question_asker_intent_understanding',\n",
       "       'question_body_critical', 'question_conversational',\n",
       "       'question_expect_short_answer', 'question_fact_seeking',\n",
       "       'question_has_commonly_accepted_answer',\n",
       "       'question_interestingness_others', 'question_interestingness_self',\n",
       "       'question_multi_intent', 'question_not_really_a_question',\n",
       "       'question_opinion_seeking', 'question_type_choice',\n",
       "       'question_type_compare', 'question_type_consequence',\n",
       "       'question_type_definition', 'question_type_entity',\n",
       "       'question_type_instructions', 'question_type_procedure',\n",
       "       'question_type_reason_explanation', 'question_type_spelling',\n",
       "       'question_well_written', 'answer_helpful',\n",
       "       'answer_level_of_information', 'answer_plausible', 'answer_relevance',\n",
       "       'answer_satisfaction', 'answer_type_instructions',\n",
       "       'answer_type_procedure', 'answer_type_reason_explanation',\n",
       "       'answer_well_written'],\n",
       "      dtype='object')"
      ]
     },
     "execution_count": 12,
     "metadata": {},
     "output_type": "execute_result"
    }
   ],
   "source": [
    "sample_submission.columns"
   ]
  },
  {
   "cell_type": "code",
   "execution_count": 8,
   "metadata": {
    "ExecuteTime": {
     "end_time": "2019-12-20T21:58:08.358046Z",
     "start_time": "2019-12-20T21:58:08.350070Z"
    },
    "scrolled": true
   },
   "outputs": [
    {
     "data": {
      "text/plain": [
       "Index(['qa_id', 'question_title', 'question_body', 'question_user_name',\n",
       "       'question_user_page', 'answer', 'answer_user_name', 'answer_user_page',\n",
       "       'url', 'category', 'host'],\n",
       "      dtype='object')"
      ]
     },
     "execution_count": 8,
     "metadata": {},
     "output_type": "execute_result"
    }
   ],
   "source": [
    "test_data.columns"
   ]
  },
  {
   "cell_type": "code",
   "execution_count": 11,
   "metadata": {
    "ExecuteTime": {
     "end_time": "2019-12-20T21:59:24.610099Z",
     "start_time": "2019-12-20T21:59:24.583155Z"
    }
   },
   "outputs": [
    {
     "name": "stdout",
     "output_type": "stream",
     "text": [
      "<class 'pandas.core.frame.DataFrame'>\n",
      "RangeIndex: 6079 entries, 0 to 6078\n",
      "Data columns (total 41 columns):\n",
      "qa_id                                    6079 non-null int64\n",
      "question_title                           6079 non-null object\n",
      "question_body                            6079 non-null object\n",
      "question_user_name                       6079 non-null object\n",
      "question_user_page                       6079 non-null object\n",
      "answer                                   6079 non-null object\n",
      "answer_user_name                         6079 non-null object\n",
      "answer_user_page                         6079 non-null object\n",
      "url                                      6079 non-null object\n",
      "category                                 6079 non-null object\n",
      "host                                     6079 non-null object\n",
      "question_asker_intent_understanding      6079 non-null float64\n",
      "question_body_critical                   6079 non-null float64\n",
      "question_conversational                  6079 non-null float64\n",
      "question_expect_short_answer             6079 non-null float64\n",
      "question_fact_seeking                    6079 non-null float64\n",
      "question_has_commonly_accepted_answer    6079 non-null float64\n",
      "question_interestingness_others          6079 non-null float64\n",
      "question_interestingness_self            6079 non-null float64\n",
      "question_multi_intent                    6079 non-null float64\n",
      "question_not_really_a_question           6079 non-null float64\n",
      "question_opinion_seeking                 6079 non-null float64\n",
      "question_type_choice                     6079 non-null float64\n",
      "question_type_compare                    6079 non-null float64\n",
      "question_type_consequence                6079 non-null float64\n",
      "question_type_definition                 6079 non-null float64\n",
      "question_type_entity                     6079 non-null float64\n",
      "question_type_instructions               6079 non-null float64\n",
      "question_type_procedure                  6079 non-null float64\n",
      "question_type_reason_explanation         6079 non-null float64\n",
      "question_type_spelling                   6079 non-null float64\n",
      "question_well_written                    6079 non-null float64\n",
      "answer_helpful                           6079 non-null float64\n",
      "answer_level_of_information              6079 non-null float64\n",
      "answer_plausible                         6079 non-null float64\n",
      "answer_relevance                         6079 non-null float64\n",
      "answer_satisfaction                      6079 non-null float64\n",
      "answer_type_instructions                 6079 non-null float64\n",
      "answer_type_procedure                    6079 non-null float64\n",
      "answer_type_reason_explanation           6079 non-null float64\n",
      "answer_well_written                      6079 non-null float64\n",
      "dtypes: float64(30), int64(1), object(10)\n",
      "memory usage: 1.9+ MB\n",
      "<class 'pandas.core.frame.DataFrame'>\n",
      "RangeIndex: 476 entries, 0 to 475\n",
      "Data columns (total 11 columns):\n",
      "qa_id                 476 non-null int64\n",
      "question_title        476 non-null object\n",
      "question_body         476 non-null object\n",
      "question_user_name    476 non-null object\n",
      "question_user_page    476 non-null object\n",
      "answer                476 non-null object\n",
      "answer_user_name      476 non-null object\n",
      "answer_user_page      476 non-null object\n",
      "url                   476 non-null object\n",
      "category              476 non-null object\n",
      "host                  476 non-null object\n",
      "dtypes: int64(1), object(10)\n",
      "memory usage: 41.0+ KB\n"
     ]
    },
    {
     "data": {
      "text/plain": [
       "(None, None)"
      ]
     },
     "execution_count": 11,
     "metadata": {},
     "output_type": "execute_result"
    }
   ],
   "source": [
    "train_data.info(), test_data.info()"
   ]
  },
  {
   "cell_type": "code",
   "execution_count": 13,
   "metadata": {
    "ExecuteTime": {
     "end_time": "2019-12-20T22:08:16.942407Z",
     "start_time": "2019-12-20T22:08:16.936426Z"
    }
   },
   "outputs": [],
   "source": [
    "target_columns = [\n",
    "    'question_asker_intent_understanding',\n",
    "    'question_body_critical',\n",
    "    'question_conversational',\n",
    "    'question_expect_short_answer',\n",
    "    'question_fact_seeking',\n",
    "    'question_has_commonly_accepted_answer',\n",
    "    'question_interestingness_others',\n",
    "    'question_interestingness_self',\n",
    "    'question_multi_intent',\n",
    "    'question_not_really_a_question',\n",
    "    'question_opinion_seeking',\n",
    "    'question_type_choice',\n",
    "    'question_type_compare',\n",
    "    'question_type_consequence',\n",
    "    'question_type_definition',\n",
    "    'question_type_entity',\n",
    "    'question_type_instructions',\n",
    "    'question_type_procedure',\n",
    "    'question_type_reason_explanation',\n",
    "    'question_type_spelling',\n",
    "    'question_well_written',\n",
    "    'answer_helpful',\n",
    "    'answer_level_of_information',\n",
    "    'answer_plausible',\n",
    "    'answer_relevance',\n",
    "    'answer_satisfaction',\n",
    "    'answer_type_instructions',\n",
    "    'answer_type_procedure',\n",
    "    'answer_type_reason_explanation',\n",
    "    'answer_well_written'\n",
    "]"
   ]
  },
  {
   "cell_type": "code",
   "execution_count": 18,
   "metadata": {
    "ExecuteTime": {
     "end_time": "2019-12-20T22:09:47.068706Z",
     "start_time": "2019-12-20T22:09:47.054744Z"
    }
   },
   "outputs": [],
   "source": [
    "y_train = train_data[target_columns].copy()\n",
    "x_train = train_data.drop(target_columns, axis=1)\n",
    "x_test = test_data.copy()"
   ]
  },
  {
   "cell_type": "code",
   "execution_count": 19,
   "metadata": {
    "ExecuteTime": {
     "end_time": "2019-12-20T22:18:31.770426Z",
     "start_time": "2019-12-20T22:18:27.367081Z"
    }
   },
   "outputs": [],
   "source": [
    "from sklearn.feature_extraction.text import TfidfVectorizer\n",
    "from sklearn.decomposition import TruncatedSVD\n",
    "from sklearn.pipeline import Pipeline\n",
    "from sklearn.compose import ColumnTransformer"
   ]
  },
  {
   "cell_type": "code",
   "execution_count": 20,
   "metadata": {
    "ExecuteTime": {
     "end_time": "2019-12-20T22:18:57.506098Z",
     "start_time": "2019-12-20T22:18:57.500109Z"
    }
   },
   "outputs": [],
   "source": [
    "text_encoder = Pipeline([\n",
    "    ('Text-TF-IDF', TfidfVectorizer(ngram_range=(1, 3))),\n",
    "    ('Text-SVD', TruncatedSVD(n_components = 100))], verbose=True)"
   ]
  },
  {
   "cell_type": "code",
   "execution_count": 22,
   "metadata": {
    "ExecuteTime": {
     "end_time": "2019-12-20T22:19:53.434103Z",
     "start_time": "2019-12-20T22:19:53.346339Z"
    }
   },
   "outputs": [],
   "source": [
    "from urllib.parse import urlparse\n",
    "import re\n",
    "from sklearn.pipeline import Pipeline\n",
    "from sklearn.preprocessing import FunctionTransformer\n",
    "from category_encoders.one_hot import OneHotEncoder\n",
    "\n",
    "\n",
    "# gives part of string (URL) before '.'\n",
    "before_dot = re.compile('^[^.]*')\n",
    "\n",
    "def transform_url(x):\n",
    "    return x.apply(lambda v: re.findall(before_dot, urlparse(v).netloc)[0])\n",
    "\n",
    "url_encoder = Pipeline([\n",
    "    ('URL-transformer', FunctionTransformer(transform_url, validate=False)),\n",
    "    ('URL-OHE', OneHotEncoder(drop_invariant=True))], verbose=True)"
   ]
  },
  {
   "cell_type": "code",
   "execution_count": 23,
   "metadata": {
    "ExecuteTime": {
     "end_time": "2019-12-20T22:20:45.725241Z",
     "start_time": "2019-12-20T22:20:45.719266Z"
    }
   },
   "outputs": [],
   "source": [
    "from category_encoders.one_hot import OneHotEncoder\n",
    "\n",
    "\n",
    "ohe = OneHotEncoder(cols='category', drop_invariant=True)"
   ]
  },
  {
   "cell_type": "code",
   "execution_count": 24,
   "metadata": {
    "ExecuteTime": {
     "end_time": "2019-12-20T22:20:57.893808Z",
     "start_time": "2019-12-20T22:20:57.886823Z"
    }
   },
   "outputs": [],
   "source": [
    "from sklearn.preprocessing import StandardScaler\n",
    "\n",
    "\n",
    "def count_words(data):\n",
    "    out = pd.DataFrame(index=data.index)\n",
    "    for column in data.columns:\n",
    "        out[column] = data[column].str.split().str.len()\n",
    "    return out\n",
    "\n",
    "word_counter = Pipeline([\n",
    "    ('WordCounter-transformer', FunctionTransformer(count_words, validate=False)),\n",
    "    ('WordCounter-std', StandardScaler())], verbose=True)"
   ]
  },
  {
   "cell_type": "code",
   "execution_count": 26,
   "metadata": {
    "ExecuteTime": {
     "end_time": "2019-12-20T22:21:23.030157Z",
     "start_time": "2019-12-20T22:21:23.024180Z"
    }
   },
   "outputs": [],
   "source": [
    "preprocessor = ColumnTransformer([\n",
    "    ('Q-T', text_encoder, 'question_title'),\n",
    "    ('Q-B', text_encoder, 'question_body'),\n",
    "    ('A', text_encoder, 'answer'),\n",
    "    ('URL', url_encoder, 'url'),\n",
    "    ('Categoty', ohe, 'category'),\n",
    "    ('W-C', word_counter, ['question_body', 'answer'])], verbose=True)"
   ]
  },
  {
   "cell_type": "code",
   "execution_count": 27,
   "metadata": {
    "ExecuteTime": {
     "end_time": "2019-12-20T22:23:30.690605Z",
     "start_time": "2019-12-20T22:21:32.469076Z"
    }
   },
   "outputs": [
    {
     "name": "stdout",
     "output_type": "stream",
     "text": [
      "[Pipeline] ....... (step 1 of 2) Processing Text-TF-IDF, total=   0.4s\n",
      "[Pipeline] .......... (step 2 of 2) Processing Text-SVD, total=   3.1s\n",
      "[ColumnTransformer] ........... (1 of 6) Processing Q-T, total=   3.6s\n",
      "[Pipeline] ....... (step 1 of 2) Processing Text-TF-IDF, total=   6.6s\n",
      "[Pipeline] .......... (step 2 of 2) Processing Text-SVD, total=  37.9s\n",
      "[ColumnTransformer] ........... (2 of 6) Processing Q-B, total=  44.5s\n",
      "[Pipeline] ....... (step 1 of 2) Processing Text-TF-IDF, total=  12.8s\n",
      "[Pipeline] .......... (step 2 of 2) Processing Text-SVD, total=  56.9s\n",
      "[ColumnTransformer] ............. (3 of 6) Processing A, total= 1.2min\n",
      "[Pipeline] ... (step 1 of 2) Processing URL-transformer, total=   0.1s\n",
      "[Pipeline] ........... (step 2 of 2) Processing URL-OHE, total=   0.1s\n",
      "[ColumnTransformer] ........... (4 of 6) Processing URL, total=   0.2s\n",
      "[ColumnTransformer] ...... (5 of 6) Processing Categoty, total=   0.0s\n",
      "[Pipeline]  (step 1 of 2) Processing WordCounter-transformer, total=   0.3s\n",
      "[Pipeline] ... (step 2 of 2) Processing WordCounter-std, total=   0.0s\n",
      "[ColumnTransformer] ........... (6 of 6) Processing W-C, total=   0.3s\n"
     ]
    }
   ],
   "source": [
    "x_train = preprocessor.fit_transform(x_train)"
   ]
  },
  {
   "cell_type": "code",
   "execution_count": 28,
   "metadata": {
    "ExecuteTime": {
     "end_time": "2019-12-20T22:23:47.337583Z",
     "start_time": "2019-12-20T22:23:45.081317Z"
    }
   },
   "outputs": [],
   "source": [
    "x_test = preprocessor.transform(x_test)"
   ]
  },
  {
   "cell_type": "code",
   "execution_count": 29,
   "metadata": {
    "ExecuteTime": {
     "end_time": "2019-12-20T22:23:55.678434Z",
     "start_time": "2019-12-20T22:23:55.671453Z"
    }
   },
   "outputs": [
    {
     "data": {
      "text/plain": [
       "(6079, 366)"
      ]
     },
     "execution_count": 29,
     "metadata": {},
     "output_type": "execute_result"
    }
   ],
   "source": [
    "x_train.shape"
   ]
  },
  {
   "cell_type": "code",
   "execution_count": 30,
   "metadata": {
    "ExecuteTime": {
     "end_time": "2019-12-20T22:24:04.868698Z",
     "start_time": "2019-12-20T22:24:04.863714Z"
    }
   },
   "outputs": [],
   "source": [
    "y_train = y_train.values"
   ]
  },
  {
   "cell_type": "code",
   "execution_count": 31,
   "metadata": {
    "ExecuteTime": {
     "end_time": "2019-12-20T22:24:27.201419Z",
     "start_time": "2019-12-20T22:24:25.358063Z"
    }
   },
   "outputs": [],
   "source": [
    "import torch\n",
    "import torch.nn as nn\n",
    "\n",
    "from torch.nn import Sequential\n",
    "from torch.nn import Linear\n",
    "from torch.nn import ReLU\n",
    "from torch.nn.utils.weight_norm import weight_norm\n",
    "\n",
    "from torch.nn import MSELoss\n",
    "from torch.optim import Adam\n",
    "\n",
    "import random\n",
    "\n",
    "\n",
    "random.seed(42)\n",
    "np.random.seed(42)\n",
    "torch.manual_seed(42)\n",
    "\n",
    "\n",
    "class PyTorch:\n",
    "    \n",
    "    def __init__(self, in_features, out_features, n_epochs, patience):\n",
    "        self.in_features = in_features\n",
    "        self.out_features = out_features\n",
    "        self.n_epochs = n_epochs\n",
    "        self.patience = patience\n",
    "    \n",
    "    \n",
    "    def init_model(self):\n",
    "        \n",
    "        # define a model\n",
    "        self.model = Sequential(\n",
    "            weight_norm(Linear(self.in_features, 128)),\n",
    "            ReLU(),\n",
    "            weight_norm(Linear(128, 128)),\n",
    "            ReLU(),\n",
    "            weight_norm(Linear(128, self.out_features)))\n",
    "        \n",
    "        # initialize model\n",
    "        for t in self.model:\n",
    "            if isinstance(t, Linear):\n",
    "                nn.init.kaiming_normal_(t.weight_v)\n",
    "                nn.init.kaiming_normal_(t.weight_g)\n",
    "                nn.init.constant_(t.bias, 0)\n",
    "        \n",
    "        # define loss function\n",
    "        self.loss_func = MSELoss()\n",
    "        \n",
    "        # define optimizer\n",
    "        self.optimizer = Adam(self.model.parameters(), lr=1e-3)\n",
    "    \n",
    "    \n",
    "    def fit(self, x_train, y_train, x_valid, y_valid):\n",
    "        \n",
    "        validate = (x_valid is not None) & (y_valid is not None)\n",
    "        \n",
    "        self.init_model()\n",
    "        \n",
    "        x_train_tensor = torch.as_tensor(x_train, dtype=torch.float32)\n",
    "        y_train_tensor = torch.as_tensor(y_train, dtype=torch.float32)\n",
    "        \n",
    "        if validate:\n",
    "            x_valid_tensor = torch.as_tensor(x_valid, dtype=torch.float32)\n",
    "            y_valid_tensor = torch.as_tensor(y_valid, dtype=torch.float32)\n",
    "        \n",
    "        min_loss = np.inf\n",
    "        counter = 0\n",
    "        \n",
    "        for epoch in range(self.n_epochs):\n",
    "            \n",
    "            self.model.train()\n",
    "            y_pred = self.model(x_train_tensor)\n",
    "            loss = self.loss_func(y_pred, y_train_tensor)\n",
    "            \n",
    "            loss.backward()\n",
    "            self.optimizer.step()\n",
    "            self.optimizer.zero_grad()\n",
    "            \n",
    "            current_loss = loss.item()\n",
    "            # print('Epoch %5d / %5d. Loss = %.5f' % (epoch + 1, self.n_epochs, current_loss))\n",
    "\n",
    "            if validate:\n",
    "                # calculate loss for validation set\n",
    "                self.model.eval()\n",
    "                with torch.no_grad():\n",
    "                    current_loss = self.loss_func(self.model(x_valid_tensor), y_valid_tensor).item()\n",
    "                # print('Epoch %5d / %5d. Validation loss = %.5f' % (epoch + 1, self.n_epochs, current_loss))\n",
    "            \n",
    "            # early stopping\n",
    "            if current_loss < min_loss:\n",
    "                min_loss = current_loss\n",
    "                counter = 0\n",
    "            else:\n",
    "                counter += 1\n",
    "                # print('Early stopping: %i / %i' % (counter, self.patience))\n",
    "                if counter >= self.patience:\n",
    "                    # print('Early stopping at epoch', epoch + 1)\n",
    "                    break\n",
    "    \n",
    "    \n",
    "    def predict(self, x):\n",
    "        x_tenson = torch.as_tensor(x, dtype=torch.float32)\n",
    "        self.model.eval()\n",
    "        with torch.no_grad():\n",
    "            return self.model(x_tenson).numpy()"
   ]
  },
  {
   "cell_type": "code",
   "execution_count": 32,
   "metadata": {
    "ExecuteTime": {
     "end_time": "2019-12-20T22:24:39.051315Z",
     "start_time": "2019-12-20T22:24:39.043339Z"
    }
   },
   "outputs": [],
   "source": [
    "from scipy.stats import spearmanr\n",
    "\n",
    "\n",
    "def mean_spearmanr_correlation_score(y_true, y_pred):\n",
    "    return np.mean([spearmanr(y_pred[:, idx], y_true[:, idx]).correlation for idx in range(len(target_columns))])"
   ]
  },
  {
   "cell_type": "code",
   "execution_count": 33,
   "metadata": {
    "ExecuteTime": {
     "end_time": "2019-12-20T22:24:50.325892Z",
     "start_time": "2019-12-20T22:24:50.320917Z"
    }
   },
   "outputs": [],
   "source": [
    "pytorch_params = {\n",
    "    'in_features': x_train.shape[1],\n",
    "    'out_features': y_train.shape[1],\n",
    "    'n_epochs': 2500,\n",
    "    'patience': 5\n",
    "}"
   ]
  },
  {
   "cell_type": "code",
   "execution_count": 34,
   "metadata": {
    "ExecuteTime": {
     "end_time": "2019-12-20T22:24:59.370452Z",
     "start_time": "2019-12-20T22:24:59.363475Z"
    }
   },
   "outputs": [],
   "source": [
    "trained_estimators = []"
   ]
  },
  {
   "cell_type": "code",
   "execution_count": 35,
   "metadata": {
    "ExecuteTime": {
     "end_time": "2019-12-20T22:26:08.442670Z",
     "start_time": "2019-12-20T22:25:09.208836Z"
    }
   },
   "outputs": [],
   "source": [
    "estimator = PyTorch(**pytorch_params)\n",
    "estimator.fit(x_train, y_train, None, None)\n",
    "trained_estimators.append(estimator)"
   ]
  },
  {
   "cell_type": "code",
   "execution_count": 37,
   "metadata": {
    "ExecuteTime": {
     "end_time": "2019-12-20T22:39:44.658084Z",
     "start_time": "2019-12-20T22:35:36.794544Z"
    }
   },
   "outputs": [
    {
     "name": "stdout",
     "output_type": "stream",
     "text": [
      "Score: 0.3109595454254529\n",
      "Score: 0.31937267362414523\n",
      "Score: 0.32915967922678085\n"
     ]
    },
    {
     "name": "stderr",
     "output_type": "stream",
     "text": [
      "C:\\WorkData\\anaconda3\\lib\\site-packages\\numpy\\lib\\function_base.py:2530: RuntimeWarning: invalid value encountered in true_divide\n",
      "  c /= stddev[:, None]\n",
      "C:\\WorkData\\anaconda3\\lib\\site-packages\\numpy\\lib\\function_base.py:2531: RuntimeWarning: invalid value encountered in true_divide\n",
      "  c /= stddev[None, :]\n",
      "C:\\WorkData\\anaconda3\\lib\\site-packages\\scipy\\stats\\_distn_infrastructure.py:877: RuntimeWarning: invalid value encountered in greater\n",
      "  return (self.a < x) & (x < self.b)\n",
      "C:\\WorkData\\anaconda3\\lib\\site-packages\\scipy\\stats\\_distn_infrastructure.py:877: RuntimeWarning: invalid value encountered in less\n",
      "  return (self.a < x) & (x < self.b)\n",
      "C:\\WorkData\\anaconda3\\lib\\site-packages\\scipy\\stats\\_distn_infrastructure.py:1831: RuntimeWarning: invalid value encountered in less_equal\n",
      "  cond2 = cond0 & (x <= self.a)\n"
     ]
    },
    {
     "name": "stdout",
     "output_type": "stream",
     "text": [
      "Score: nan\n",
      "Score: 0.3357997533064812\n",
      "Score: 0.32382235110537744\n",
      "Score: 0.3167498339771514\n",
      "Score: nan\n",
      "Score: nan\n",
      "Score: nan\n",
      "Mean score: 0.3226439727775648\n"
     ]
    }
   ],
   "source": [
    "from sklearn.model_selection import KFold\n",
    "import math\n",
    "\n",
    "\n",
    "n_splits = 10\n",
    "\n",
    "scores = []\n",
    "\n",
    "cv = KFold(n_splits=n_splits, random_state=42)\n",
    "for train_idx, valid_idx in cv.split(x_train, y_train):\n",
    "    \n",
    "    x_train_train = x_train[train_idx]\n",
    "    y_train_train = y_train[train_idx]\n",
    "    x_train_valid = x_train[valid_idx]\n",
    "    y_train_valid = y_train[valid_idx]\n",
    "    \n",
    "    estimator = PyTorch(**pytorch_params)\n",
    "    estimator.fit(x_train_train, y_train_train, x_train_valid, y_train_valid)\n",
    "    \n",
    "    oof_part = estimator.predict(x_train_valid)\n",
    "    score = mean_spearmanr_correlation_score(y_train_valid, oof_part)\n",
    "    print('Score:', score)\n",
    "    \n",
    "    if not math.isnan(score):\n",
    "        trained_estimators.append(estimator)\n",
    "        scores.append(score)\n",
    "\n",
    "\n",
    "print('Mean score:', np.mean(scores))"
   ]
  },
  {
   "cell_type": "code",
   "execution_count": 39,
   "metadata": {
    "ExecuteTime": {
     "end_time": "2019-12-21T01:14:46.430181Z",
     "start_time": "2019-12-21T01:14:46.422149Z"
    }
   },
   "outputs": [
    {
     "data": {
      "text/plain": [
       "[1]"
      ]
     },
     "execution_count": 39,
     "metadata": {},
     "output_type": "execute_result"
    }
   ],
   "source": [
    "k=[1]\n",
    "k[0:1]"
   ]
  },
  {
   "cell_type": "code",
   "execution_count": 40,
   "metadata": {
    "ExecuteTime": {
     "end_time": "2019-12-21T01:24:03.878737Z",
     "start_time": "2019-12-21T01:24:03.871735Z"
    }
   },
   "outputs": [
    {
     "data": {
      "text/plain": [
       "1"
      ]
     },
     "execution_count": 40,
     "metadata": {},
     "output_type": "execute_result"
    }
   ],
   "source": [
    "\"abcdef\".index('b')"
   ]
  },
  {
   "cell_type": "code",
   "execution_count": null,
   "metadata": {},
   "outputs": [],
   "source": []
  }
 ],
 "metadata": {
  "kernelspec": {
   "display_name": "Python 3",
   "language": "python",
   "name": "python3"
  },
  "language_info": {
   "codemirror_mode": {
    "name": "ipython",
    "version": 3
   },
   "file_extension": ".py",
   "mimetype": "text/x-python",
   "name": "python",
   "nbconvert_exporter": "python",
   "pygments_lexer": "ipython3",
   "version": "3.6.8"
  },
  "toc": {
   "base_numbering": 1,
   "nav_menu": {},
   "number_sections": true,
   "sideBar": true,
   "skip_h1_title": false,
   "title_cell": "Table of Contents",
   "title_sidebar": "Contents",
   "toc_cell": false,
   "toc_position": {},
   "toc_section_display": true,
   "toc_window_display": false
  },
  "varInspector": {
   "cols": {
    "lenName": 16,
    "lenType": 16,
    "lenVar": 40
   },
   "kernels_config": {
    "python": {
     "delete_cmd_postfix": "",
     "delete_cmd_prefix": "del ",
     "library": "var_list.py",
     "varRefreshCmd": "print(var_dic_list())"
    },
    "r": {
     "delete_cmd_postfix": ") ",
     "delete_cmd_prefix": "rm(",
     "library": "var_list.r",
     "varRefreshCmd": "cat(var_dic_list()) "
    }
   },
   "types_to_exclude": [
    "module",
    "function",
    "builtin_function_or_method",
    "instance",
    "_Feature"
   ],
   "window_display": false
  }
 },
 "nbformat": 4,
 "nbformat_minor": 2
}
