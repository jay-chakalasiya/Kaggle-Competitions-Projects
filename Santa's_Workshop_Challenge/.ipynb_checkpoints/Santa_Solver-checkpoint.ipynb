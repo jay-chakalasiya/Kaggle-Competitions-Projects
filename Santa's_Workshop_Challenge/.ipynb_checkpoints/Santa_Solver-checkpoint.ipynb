{
 "cells": [
  {
   "cell_type": "code",
   "execution_count": 22,
   "metadata": {
    "ExecuteTime": {
     "end_time": "2019-12-18T07:06:32.517851Z",
     "start_time": "2019-12-18T07:06:32.513874Z"
    }
   },
   "outputs": [],
   "source": [
    "import pandas as pd\n",
    "import os\n",
    "PATH = './santa-workshop-tour-2019/'"
   ]
  },
  {
   "cell_type": "markdown",
   "metadata": {},
   "source": [
    "# Data Exploration"
   ]
  },
  {
   "cell_type": "code",
   "execution_count": 23,
   "metadata": {
    "ExecuteTime": {
     "end_time": "2019-12-18T07:06:33.176608Z",
     "start_time": "2019-12-18T07:06:33.151697Z"
    }
   },
   "outputs": [
    {
     "data": {
      "text/html": [
       "<div>\n",
       "<style scoped>\n",
       "    .dataframe tbody tr th:only-of-type {\n",
       "        vertical-align: middle;\n",
       "    }\n",
       "\n",
       "    .dataframe tbody tr th {\n",
       "        vertical-align: top;\n",
       "    }\n",
       "\n",
       "    .dataframe thead th {\n",
       "        text-align: right;\n",
       "    }\n",
       "</style>\n",
       "<table border=\"1\" class=\"dataframe\">\n",
       "  <thead>\n",
       "    <tr style=\"text-align: right;\">\n",
       "      <th></th>\n",
       "      <th>family_id</th>\n",
       "      <th>choice_0</th>\n",
       "      <th>choice_1</th>\n",
       "      <th>choice_2</th>\n",
       "      <th>choice_3</th>\n",
       "      <th>choice_4</th>\n",
       "      <th>choice_5</th>\n",
       "      <th>choice_6</th>\n",
       "      <th>choice_7</th>\n",
       "      <th>choice_8</th>\n",
       "      <th>choice_9</th>\n",
       "      <th>n_people</th>\n",
       "    </tr>\n",
       "  </thead>\n",
       "  <tbody>\n",
       "    <tr>\n",
       "      <th>0</th>\n",
       "      <td>0</td>\n",
       "      <td>52</td>\n",
       "      <td>38</td>\n",
       "      <td>12</td>\n",
       "      <td>82</td>\n",
       "      <td>33</td>\n",
       "      <td>75</td>\n",
       "      <td>64</td>\n",
       "      <td>76</td>\n",
       "      <td>10</td>\n",
       "      <td>28</td>\n",
       "      <td>4</td>\n",
       "    </tr>\n",
       "    <tr>\n",
       "      <th>1</th>\n",
       "      <td>1</td>\n",
       "      <td>26</td>\n",
       "      <td>4</td>\n",
       "      <td>82</td>\n",
       "      <td>5</td>\n",
       "      <td>11</td>\n",
       "      <td>47</td>\n",
       "      <td>38</td>\n",
       "      <td>6</td>\n",
       "      <td>66</td>\n",
       "      <td>61</td>\n",
       "      <td>4</td>\n",
       "    </tr>\n",
       "    <tr>\n",
       "      <th>2</th>\n",
       "      <td>2</td>\n",
       "      <td>100</td>\n",
       "      <td>54</td>\n",
       "      <td>25</td>\n",
       "      <td>12</td>\n",
       "      <td>27</td>\n",
       "      <td>82</td>\n",
       "      <td>10</td>\n",
       "      <td>89</td>\n",
       "      <td>80</td>\n",
       "      <td>33</td>\n",
       "      <td>3</td>\n",
       "    </tr>\n",
       "    <tr>\n",
       "      <th>3</th>\n",
       "      <td>3</td>\n",
       "      <td>2</td>\n",
       "      <td>95</td>\n",
       "      <td>1</td>\n",
       "      <td>96</td>\n",
       "      <td>32</td>\n",
       "      <td>6</td>\n",
       "      <td>40</td>\n",
       "      <td>31</td>\n",
       "      <td>9</td>\n",
       "      <td>59</td>\n",
       "      <td>2</td>\n",
       "    </tr>\n",
       "    <tr>\n",
       "      <th>4</th>\n",
       "      <td>4</td>\n",
       "      <td>53</td>\n",
       "      <td>1</td>\n",
       "      <td>47</td>\n",
       "      <td>93</td>\n",
       "      <td>26</td>\n",
       "      <td>3</td>\n",
       "      <td>46</td>\n",
       "      <td>16</td>\n",
       "      <td>42</td>\n",
       "      <td>39</td>\n",
       "      <td>4</td>\n",
       "    </tr>\n",
       "  </tbody>\n",
       "</table>\n",
       "</div>"
      ],
      "text/plain": [
       "   family_id  choice_0  choice_1  choice_2  choice_3  choice_4  choice_5  \\\n",
       "0          0        52        38        12        82        33        75   \n",
       "1          1        26         4        82         5        11        47   \n",
       "2          2       100        54        25        12        27        82   \n",
       "3          3         2        95         1        96        32         6   \n",
       "4          4        53         1        47        93        26         3   \n",
       "\n",
       "   choice_6  choice_7  choice_8  choice_9  n_people  \n",
       "0        64        76        10        28         4  \n",
       "1        38         6        66        61         4  \n",
       "2        10        89        80        33         3  \n",
       "3        40        31         9        59         2  \n",
       "4        46        16        42        39         4  "
      ]
     },
     "execution_count": 23,
     "metadata": {},
     "output_type": "execute_result"
    }
   ],
   "source": [
    "family_data = pd.read_csv(PATH+'family_data.csv')\n",
    "family_data.head()"
   ]
  },
  {
   "cell_type": "code",
   "execution_count": 24,
   "metadata": {
    "ExecuteTime": {
     "end_time": "2019-12-18T07:06:33.724424Z",
     "start_time": "2019-12-18T07:06:33.497493Z"
    }
   },
   "outputs": [
    {
     "data": {
      "text/plain": [
       "<matplotlib.axes._subplots.AxesSubplot at 0x1fa3855dba8>"
      ]
     },
     "execution_count": 24,
     "metadata": {},
     "output_type": "execute_result"
    },
    {
     "data": {
      "image/png": "[encoded data removed]",
      "text/plain": [
       "<Figure size 432x288 with 1 Axes>"
      ]
     },
     "metadata": {
      "needs_background": "light"
     },
     "output_type": "display_data"
    }
   ],
   "source": [
    "family_data.groupby(['choice_0']).sum()['n_people'].plot()"
   ]
  },
  {
   "cell_type": "code",
   "execution_count": 25,
   "metadata": {
    "ExecuteTime": {
     "end_time": "2019-12-18T07:06:34.118928Z",
     "start_time": "2019-12-18T07:06:33.897950Z"
    }
   },
   "outputs": [
    {
     "data": {
      "text/plain": [
       "<matplotlib.axes._subplots.AxesSubplot at 0x1fa38883e10>"
      ]
     },
     "execution_count": 25,
     "metadata": {},
     "output_type": "execute_result"
    },
    {
     "data": {
      "image/png": "[encoded data removed]",
      "text/plain": [
       "<Figure size 432x288 with 1 Axes>"
      ]
     },
     "metadata": {
      "needs_background": "light"
     },
     "output_type": "display_data"
    }
   ],
   "source": [
    "family_data['choice_0'].value_counts().sort_index().plot()"
   ]
  },
  {
   "cell_type": "markdown",
   "metadata": {},
   "source": [
    "# Globals"
   ]
  },
  {
   "cell_type": "code",
   "execution_count": 111,
   "metadata": {
    "ExecuteTime": {
     "end_time": "2019-12-19T00:20:33.297622Z",
     "start_time": "2019-12-19T00:20:33.246727Z"
    }
   },
   "outputs": [],
   "source": [
    "N_DAYS = 100\n",
    "MAX_OCCUPANCY = 300\n",
    "MIN_OCCUPANCY = 125\n",
    "\n",
    "days = list(range(N_DAYS, 0, -1))\n",
    "choice_dict = family_data[[f'choice_{i}' for i in range(10)]].to_dict()\n",
    "family_size_dict = family_data[['n_people']].to_dict()['n_people']\n",
    "\n",
    "OUT_PATH = './submission.csv'\n",
    "submission = pd.read_csv(OUT_PATH, index_col='family_id')"
   ]
  },
  {
   "cell_type": "markdown",
   "metadata": {},
   "source": [
    "# Cost Function"
   ]
  },
  {
   "cell_type": "code",
   "execution_count": 112,
   "metadata": {
    "ExecuteTime": {
     "end_time": "2019-12-19T00:20:36.436008Z",
     "start_time": "2019-12-19T00:20:36.418024Z"
    }
   },
   "outputs": [],
   "source": [
    "def cost_function(prediction):\n",
    "\n",
    "    penalty = 0\n",
    "\n",
    "    # We'll use this to count the number of people scheduled each day\n",
    "    daily_occupancy = {k:0 for k in days}\n",
    "    \n",
    "    # Looping over each family; d is the day for each family f\n",
    "    for f, d in enumerate(prediction):\n",
    "\n",
    "        # Using our lookup dictionaries to make simpler variable names\n",
    "        n = family_size_dict[f]\n",
    "        choice_0 = choice_dict['choice_0'][f]\n",
    "        choice_1 = choice_dict['choice_1'][f]\n",
    "        choice_2 = choice_dict['choice_2'][f]\n",
    "        choice_3 = choice_dict['choice_3'][f]\n",
    "        choice_4 = choice_dict['choice_4'][f]\n",
    "        choice_5 = choice_dict['choice_5'][f]\n",
    "        choice_6 = choice_dict['choice_6'][f]\n",
    "        choice_7 = choice_dict['choice_7'][f]\n",
    "        choice_8 = choice_dict['choice_8'][f]\n",
    "        choice_9 = choice_dict['choice_9'][f]\n",
    "\n",
    "        # add the family member count to the daily occupancy\n",
    "        daily_occupancy[d] += n\n",
    "\n",
    "        # Calculate the penalty for not getting top preference\n",
    "        if d == choice_0:\n",
    "            penalty += 0\n",
    "        elif d == choice_1:\n",
    "            penalty += 50\n",
    "        elif d == choice_2:\n",
    "            penalty += 50 + 9 * n\n",
    "        elif d == choice_3:\n",
    "            penalty += 100 + 9 * n\n",
    "        elif d == choice_4:\n",
    "            penalty += 200 + 9 * n\n",
    "        elif d == choice_5:\n",
    "            penalty += 200 + 18 * n\n",
    "        elif d == choice_6:\n",
    "            penalty += 300 + 18 * n\n",
    "        elif d == choice_7:\n",
    "            penalty += 300 + 36 * n\n",
    "        elif d == choice_8:\n",
    "            penalty += 400 + 36 * n\n",
    "        elif d == choice_9:\n",
    "            penalty += 500 + 36 * n + 199 * n\n",
    "        else:\n",
    "            penalty += 500 + 36 * n + 398 * n\n",
    "\n",
    "    # for each date, check total occupancy\n",
    "    #  (using soft constraints instead of hard constraints)\n",
    "    for _, v in daily_occupancy.items():\n",
    "        if (v > MAX_OCCUPANCY) or (v < MIN_OCCUPANCY):\n",
    "            penalty += 100000000\n",
    "\n",
    "    # Calculate the accounting cost\n",
    "    # The first day (day 100) is treated special\n",
    "    accounting_cost = (daily_occupancy[days[0]]-125.0) / 400.0 * daily_occupancy[days[0]]**(0.5)\n",
    "    # using the max function because the soft constraints might allow occupancy to dip below 125\n",
    "    accounting_cost = max(0, accounting_cost)\n",
    "    \n",
    "    # Loop over the rest of the days, keeping track of previous count\n",
    "    yesterday_count = daily_occupancy[days[0]]\n",
    "    for day in days[1:]:\n",
    "        today_count = daily_occupancy[day]\n",
    "        diff = abs(today_count - yesterday_count)\n",
    "        accounting_cost += max(0, (daily_occupancy[day]-125.0) / 400.0 * daily_occupancy[day]**(0.5 + diff / 50.0))\n",
    "        yesterday_count = today_count\n",
    "\n",
    "    penalty += accounting_cost\n",
    "\n",
    "    return penalty"
   ]
  },
  {
   "cell_type": "code",
   "execution_count": null,
   "metadata": {
    "ExecuteTime": {
     "start_time": "2019-12-19T00:20:41.444Z"
    },
    "scrolled": true
   },
   "outputs": [
    {
     "name": "stdout",
     "output_type": "stream",
     "text": [
      "80322.14614806749\n",
      "80319.51187522094\n",
      "80316.33762774715\n",
      "80293.87340780022\n",
      "80291.4059184574\n",
      "80289.0684728598\n",
      "500\n",
      "80282.94438051795\n",
      "80281.09690755025\n",
      "80277.16941529144\n",
      "1000\n"
     ]
    }
   ],
   "source": [
    "# Start with the sample submission values\n",
    "best = submission['assigned_day'].tolist()\n",
    "start_score = cost_function(best)\n",
    "print(start_score)\n",
    "\n",
    "new = best.copy()\n",
    "# loop over each family\n",
    "\n",
    "i=0\n",
    "\n",
    "for fam_id, _ in enumerate(best):\n",
    "    i+=1\n",
    "    if i%500==0:\n",
    "        print(i)\n",
    "    # loop over each family choice\n",
    "    for pick in range(10):\n",
    "        day = choice_dict[f'choice_{pick}'][fam_id]\n",
    "        temp = new.copy()\n",
    "        temp[fam_id] = day # add in the new pick\n",
    "        if cost_function(temp) < start_score:\n",
    "            new = temp.copy()\n",
    "            start_score = cost_function(new)\n",
    "            print(start_score)\n",
    "            \n",
    "submission['assigned_day'] = new\n",
    "score = cost_function(new)\n",
    "print(score)\n",
    "submission.to_csv(f'submission_{score}.csv')\n",
    "print(f'Score: {score}')\n",
    "            "
   ]
  },
  {
   "cell_type": "code",
   "execution_count": null,
   "metadata": {},
   "outputs": [],
   "source": []
  },
  {
   "cell_type": "markdown",
   "metadata": {},
   "source": [
    "# Pytorch Approach"
   ]
  },
  {
   "cell_type": "code",
   "execution_count": 101,
   "metadata": {
    "ExecuteTime": {
     "end_time": "2019-12-19T00:09:11.982240Z",
     "start_time": "2019-12-19T00:09:11.976256Z"
    }
   },
   "outputs": [],
   "source": [
    "import numpy as np\n",
    "import pandas as pd\n",
    "from pathlib import Path\n",
    "import tqdm\n",
    "import torch\n",
    "import torch.nn as nn\n",
    "import torch.nn.functional as F\n",
    "from torch.autograd import Variable\n",
    "from numba import njit\n",
    "MAX_CHOICE=5\n"
   ]
  },
  {
   "cell_type": "code",
   "execution_count": 102,
   "metadata": {
    "ExecuteTime": {
     "end_time": "2019-12-19T00:09:12.485917Z",
     "start_time": "2019-12-19T00:09:12.479956Z"
    }
   },
   "outputs": [],
   "source": [
    "root_path = './santa-workshop-tour-2019/'\n",
    "best_submit_path='./'"
   ]
  },
  {
   "cell_type": "code",
   "execution_count": 103,
   "metadata": {
    "ExecuteTime": {
     "end_time": "2019-12-19T00:09:13.014508Z",
     "start_time": "2019-12-19T00:09:12.992554Z"
    }
   },
   "outputs": [],
   "source": [
    "fpath = root_path + 'family_data.csv'\n",
    "data = pd.read_csv(fpath, index_col='family_id')\n",
    "\n",
    "fpath = root_path + 'sample_submission.csv'\n",
    "submission = pd.read_csv(fpath, index_col='family_id')"
   ]
  },
  {
   "cell_type": "code",
   "execution_count": 104,
   "metadata": {
    "ExecuteTime": {
     "end_time": "2019-12-19T00:09:15.365635Z",
     "start_time": "2019-12-19T00:09:14.614186Z"
    }
   },
   "outputs": [],
   "source": [
    "dummies = []\n",
    "for i in range(MAX_CHOICE):\n",
    "    dummies.append((pd.get_dummies(data[f'choice_{i}']).values*data['n_people'].values.astype(np.int8).reshape(-1,1)).reshape(5000, 100, 1))\n",
    "dummies = np.concatenate(dummies, axis=2)\n",
    "dummies = np.swapaxes(dummies, 1, 2)\n",
    "\n",
    "penalties = {n: [0, 50, 50 + 9 * n, 100 + 9 * n, 200 + 9 * n, 200 + 18 * n, 300 + 18 * n, 300 + 36 * n, 400 + 36 * n, 500 + 36 * n + 199 * n] for n in np.unique(data['n_people'])}\n",
    "\n",
    "mat = []\n",
    "for i in range(5000):\n",
    "    n = data.iloc[i]['n_people']\n",
    "    mat.append(penalties[n][:MAX_CHOICE])\n",
    "mat = np.array(mat)\n",
    "\n",
    "initial_sub = pd.read_csv(best_submit_path+'submission.csv')\n",
    "fam_choices = data\n",
    "a = pd.merge(initial_sub, fam_choices, on='family_id')\n",
    "    \n",
    "initial_choices = []\n",
    "for i in range(MAX_CHOICE):\n",
    "    initial_choices.append(((a[f'choice_{i}'] == a['assigned_day'])).values.reshape(-1,1))\n",
    "initial_choices = np.concatenate(initial_choices, axis=1)\n",
    "initial_choices = torch.tensor(\n",
    "   initial_choices*10\n",
    "    , dtype=torch.float32)#.cuda()"
   ]
  },
  {
   "cell_type": "code",
   "execution_count": 105,
   "metadata": {
    "ExecuteTime": {
     "end_time": "2019-12-19T00:09:16.793837Z",
     "start_time": "2019-12-19T00:09:16.325397Z"
    }
   },
   "outputs": [],
   "source": [
    "family_size_dict = data[['n_people']].to_dict()['n_people']\n",
    "\n",
    "cols = [f'choice_{i}' for i in range(10)]\n",
    "choice_dict = data[cols].T.to_dict()\n",
    "\n",
    "N_DAYS = 100\n",
    "MAX_OCCUPANCY = 300\n",
    "MIN_OCCUPANCY = 125\n",
    "\n",
    "# from 100 to 1\n",
    "days = list(range(N_DAYS,0,-1))\n",
    "\n",
    "family_size_ls = list(family_size_dict.values())\n",
    "choice_dict_num = [{vv:i for i, vv in enumerate(di.values())} for di in choice_dict.values()]\n",
    "\n",
    "# Computer penalities in a list\n",
    "penalties_dict = {\n",
    "    n: [\n",
    "        0,\n",
    "        50,\n",
    "        50 + 9 * n,\n",
    "        100 + 9 * n,\n",
    "        200 + 9 * n,\n",
    "        200 + 18 * n,\n",
    "        300 + 18 * n,\n",
    "        300 + 36 * n,\n",
    "        400 + 36 * n,\n",
    "        500 + 36 * n + 199 * n,\n",
    "        500 + 36 * n + 398 * n\n",
    "    ]\n",
    "    for n in range(max(family_size_dict.values())+1)\n",
    "} \n",
    "\n",
    "def cost_function(prediction):\n",
    "    penalty = 0\n",
    "    violations = 0\n",
    "    # We'll use this to count the number of people scheduled each day\n",
    "    daily_occupancy = {k:0 for k in days}\n",
    "    \n",
    "    # Looping over each family; d is the day, n is size of that family, \n",
    "    # and choice is their top choices\n",
    "    for n, d, choice in zip(family_size_ls, prediction, choice_dict_num):\n",
    "        # add the family member count to the daily occupancy\n",
    "        daily_occupancy[d] += n\n",
    "\n",
    "        # Calculate the penalty for not getting top preference\n",
    "        if d not in choice:\n",
    "            penalty += penalties_dict[n][-1]\n",
    "        else:\n",
    "            penalty += penalties_dict[n][choice[d]]\n",
    "\n",
    "    # for each date, check total occupancy\n",
    "    #  (using soft constraints instead of hard constraints)\n",
    "    for v in daily_occupancy.values():\n",
    "        if (v > MAX_OCCUPANCY) or (v < MIN_OCCUPANCY):\n",
    "            violations += 1\n",
    "#             penalty += 100000000\n",
    "\n",
    "    # Calculate the accounting cost\n",
    "    # The first day (day 100) is treated special\n",
    "    accounting_cost = (daily_occupancy[days[0]]-125.0) / 400.0 * daily_occupancy[days[0]]**(0.5)\n",
    "    # using the max function because the soft constraints might allow occupancy to dip below 125\n",
    "    accounting_cost = max(0, accounting_cost)\n",
    "    \n",
    "    # Loop over the rest of the days, keeping track of previous count\n",
    "    yesterday_count = daily_occupancy[days[0]]\n",
    "    for day in days[1:]:\n",
    "        today_count = daily_occupancy[day]\n",
    "        diff = abs(today_count - yesterday_count)\n",
    "        accounting_cost += max(0, (daily_occupancy[day]-125.0) / 400.0 * daily_occupancy[day]**(0.5 + diff / 50.0))\n",
    "        yesterday_count = today_count\n",
    "\n",
    "    return penalty, accounting_cost, violations"
   ]
  },
  {
   "cell_type": "code",
   "execution_count": 106,
   "metadata": {
    "ExecuteTime": {
     "end_time": "2019-12-19T00:09:18.026598Z",
     "start_time": "2019-12-19T00:09:18.011636Z"
    }
   },
   "outputs": [
    {
     "data": {
      "text/plain": [
       "(75461, 5520.488260095933, 0)"
      ]
     },
     "execution_count": 106,
     "metadata": {},
     "output_type": "execute_result"
    }
   ],
   "source": [
    "cost_function(initial_sub['assigned_day'].values)"
   ]
  },
  {
   "cell_type": "code",
   "execution_count": 107,
   "metadata": {
    "ExecuteTime": {
     "end_time": "2019-12-19T00:09:19.946097Z",
     "start_time": "2019-12-19T00:09:19.935126Z"
    }
   },
   "outputs": [],
   "source": [
    "class Model(nn.Module):\n",
    "    def __init__(self, mat, dummies):\n",
    "        super().__init__()\n",
    "        self.mat = torch.from_numpy(mat).type(torch.float32)#.cuda()\n",
    "        self.dummies = torch.from_numpy(dummies).type(torch.float32)#.cuda()\n",
    "        self.weight = torch.nn.Parameter(data=torch.Tensor(5000, MAX_CHOICE)#.cuda()\n",
    "                                         , requires_grad=True)\n",
    "        self.weight.data.copy_(initial_choices)\n",
    "        \n",
    "    def forward(self):\n",
    "        prob = F.softmax(self.weight,dim=1)\n",
    "        \n",
    "        x = (prob * self.mat).sum()\n",
    "        \n",
    "        daily_occupancy = torch.zeros(100, dtype=torch.float32)#.cuda()\n",
    "        for i in range(5000):\n",
    "            daily_occupancy += prob[i]@self.dummies[i]\n",
    "        diff = torch.cat([torch.abs(daily_occupancy[:-1] - daily_occupancy[1:]), torch.Tensor([0])])\n",
    "        y = ( torch.relu(daily_occupancy-125.0) / 400.0 * daily_occupancy**(0.5 + diff / 50.0)).sum() \n",
    "        \n",
    "        v = (torch.relu(125-daily_occupancy)**2+torch.relu(daily_occupancy-300)**2).sum()\n",
    "            \n",
    "        return  x, y, v*10000"
   ]
  },
  {
   "cell_type": "code",
   "execution_count": 108,
   "metadata": {
    "ExecuteTime": {
     "end_time": "2019-12-19T00:09:21.371111Z",
     "start_time": "2019-12-19T00:09:21.360178Z"
    }
   },
   "outputs": [],
   "source": [
    "model = Model(mat, dummies)\n",
    "best_score = 10e10\n",
    "best_pos = None\n",
    "optimizer = torch.optim.Adam(model.parameters(), lr = 1)"
   ]
  },
  {
   "cell_type": "code",
   "execution_count": 109,
   "metadata": {
    "ExecuteTime": {
     "end_time": "2019-12-19T00:19:45.061505Z",
     "start_time": "2019-12-19T00:09:22.692267Z"
    },
    "scrolled": true
   },
   "outputs": [
    {
     "data": {
      "application/vnd.jupyter.widget-view+json": {
       "model_id": "18e0ccdee30c4eefa78dfc99036fa7af",
       "version_major": 2,
       "version_minor": 0
      },
      "text/plain": [
       "HBox(children=(IntProgress(value=0, max=1000), HTML(value='')))"
      ]
     },
     "metadata": {},
     "output_type": "display_data"
    },
    {
     "name": "stdout",
     "output_type": "stream",
     "text": [
      "80981.48826009594\n",
      "0\t75560.5\t5532.5    \t80981.0   \t75461\t5520.0\t0\n",
      "1\t75513.1\t5537.0    \t80981.0   \t75461\t5520.0\t0\n",
      "2\t75554.2\t5418.9    \t80981.0   \t75461\t5520.0\t0\n",
      "3\t75651.7\t5352.7    \t80981.0   \t75461\t5520.0\t0\n",
      "4\t75515.5\t5364.0    \t80981.0   \t75461\t5520.0\t0\n",
      "5\t75494.4\t5397.6    \t80981.0   \t75461\t5520.0\t0\n",
      "80945.70732175025\n",
      "6\t75479.6\t5385.2    \t80946.0   \t75547\t5399.0\t0\n",
      "7\t75504.0\t5370.5    \t80946.0   \t75547\t5399.0\t0\n",
      "8\t75496.7\t5391.4    \t80946.0   \t75547\t5399.0\t0\n",
      "9\t75618.0\t5256.0    \t80946.0   \t75547\t5399.0\t0\n",
      "10\t75564.7\t5238.9    \t80912.0   \t75470\t5442.0\t1\n",
      "11\t75529.7\t5205.9    \t80968.0   \t75615\t5353.0\t1\n",
      "12\t75523.8\t5143.4    \t80748.0   \t75351\t5397.0\t1\n",
      "13\t75411.0\t5195.6    \t80776.0   \t75196\t5580.0\t1\n",
      "14\t75342.5\t5216.5    \t80705.0   \t75278\t5427.0\t1\n",
      "15\t75248.6\t5254.3    \t80668.0   \t74974\t5694.0\t1\n",
      "80536.11997478685\n",
      "16\t75188.8\t5290.2    \t80536.0   \t75365\t5171.0\t0\n",
      "17\t75240.8\t5217.4    \t80583.0   \t75220\t5363.0\t0\n",
      "18\t75239.9\t5192.2    \t80616.0   \t75166\t5450.0\t0\n",
      "19\t75217.8\t5198.7    \t80584.0   \t75366\t5218.0\t0\n",
      "80511.93189678907\n",
      "20\t75286.4\t5131.0    \t80512.0   \t75420\t5092.0\t0\n",
      "21\t75321.8\t5091.2    \t80569.0   \t75320\t5249.0\t0\n",
      "22\t75316.8\t5090.9    \t80514.0   \t75320\t5194.0\t0\n",
      "23\t75319.1\t5082.2    \t80514.0   \t75320\t5194.0\t0\n",
      "80436.17192947488\n",
      "24\t75300.9\t5087.0    \t80436.0   \t75220\t5216.0\t0\n",
      "80406.19064345039\n",
      "25\t75260.1\t5110.6    \t80406.0   \t75270\t5136.0\t0\n",
      "26\t75252.4\t5103.4    \t80407.0   \t75270\t5137.0\t0\n",
      "80395.83267986952\n",
      "27\t75265.9\t5077.0    \t80396.0   \t75320\t5076.0\t0\n",
      "28\t75256.0\t5082.3    \t80451.0   \t75234\t5217.0\t0\n",
      "29\t75192.0\t5146.2    \t80462.0   \t75234\t5228.0\t0\n",
      "30\t75199.6\t5130.3    \t80447.0   \t75284\t5163.0\t0\n",
      "80359.25525817837\n",
      "31\t75223.1\t5102.5    \t80359.0   \t75279\t5080.0\t0\n",
      "80344.41868926973\n",
      "32\t75226.2\t5094.9    \t80344.0   \t75229\t5115.0\t0\n",
      "33\t75191.2\t5121.9    \t80344.0   \t75229\t5115.0\t0\n",
      "80343.9817132435\n",
      "34\t75173.1\t5137.8    \t80344.0   \t75279\t5065.0\t0\n",
      "80343.9516540706\n",
      "35\t75185.5\t5117.6    \t80344.0   \t75329\t5015.0\t0\n",
      "36\t75192.8\t5110.9    \t80344.0   \t75329\t5015.0\t0\n",
      "80337.68838373706\n",
      "37\t75167.2\t5135.8    \t80338.0   \t75284\t5054.0\t0\n",
      "38\t75126.7\t5172.9    \t80338.0   \t75284\t5054.0\t0\n",
      "39\t75120.1\t5176.3    \t80338.0   \t75284\t5054.0\t0\n",
      "40\t75133.7\t5160.4    \t80338.0   \t75284\t5054.0\t0\n",
      "41\t75145.3\t5146.0    \t80344.0   \t75279\t5065.0\t0\n",
      "42\t75150.9\t5139.8    \t80344.0   \t75279\t5065.0\t0\n",
      "43\t75153.4\t5137.8    \t80344.0   \t75329\t5015.0\t0\n",
      "44\t75143.1\t5146.5    \t80418.0   \t75229\t5189.0\t0\n",
      "45\t75120.2\t5167.5    \t80418.0   \t75229\t5189.0\t0\n",
      "46\t75097.3\t5189.9    \t80364.0   \t75229\t5135.0\t0\n",
      "47\t75073.2\t5214.4    \t80364.0   \t75229\t5135.0\t0\n",
      "48\t75067.9\t5218.1    \t80424.0   \t75179\t5245.0\t0\n",
      "49\t75076.8\t5208.0    \t80349.0   \t75279\t5070.0\t0\n",
      "50\t75101.5\t5181.6    \t80338.0   \t75284\t5054.0\t0\n",
      "51\t75124.7\t5158.3    \t80338.0   \t75284\t5054.0\t0\n",
      "52\t75130.1\t5153.1    \t80338.0   \t75284\t5054.0\t0\n",
      "53\t75130.5\t5152.7    \t80338.0   \t75284\t5054.0\t0\n",
      "54\t75131.0\t5151.1    \t80343.0   \t75234\t5109.0\t0\n",
      "55\t75128.0\t5153.8    \t80343.0   \t75234\t5109.0\t0\n",
      "56\t75120.1\t5161.4    \t80343.0   \t75234\t5109.0\t0\n",
      "57\t75113.3\t5167.9    \t80414.0   \t75184\t5230.0\t0\n",
      "58\t75124.7\t5156.4    \t80414.0   \t75184\t5230.0\t0\n",
      "59\t75136.0\t5144.6    \t80488.0   \t75084\t5404.0\t0\n",
      "60\t75143.0\t5136.9    \t80488.0   \t75134\t5354.0\t0\n",
      "61\t75147.2\t5132.5    \t80488.0   \t75134\t5354.0\t0\n",
      "62\t75154.7\t5124.3    \t80488.0   \t75134\t5354.0\t0\n",
      "63\t75155.1\t5123.7    \t80488.0   \t75134\t5354.0\t0\n",
      "64\t75139.8\t5138.7    \t80417.0   \t75134\t5283.0\t0\n",
      "65\t75130.7\t5147.6    \t80343.0   \t75184\t5159.0\t0\n",
      "66\t75128.5\t5149.7    \t80417.0   \t75134\t5283.0\t0\n",
      "67\t75128.1\t5149.6    \t80414.0   \t75134\t5280.0\t0\n",
      "68\t75127.2\t5150.1    \t80414.0   \t75184\t5230.0\t0\n",
      "69\t75130.6\t5146.2    \t80344.0   \t75229\t5115.0\t0\n",
      "70\t75135.8\t5140.6    \t80344.0   \t75229\t5115.0\t0\n",
      "71\t75135.2\t5140.2    \t80352.0   \t75084\t5268.0\t0\n",
      "72\t75125.6\t5149.2    \t80352.0   \t75084\t5268.0\t0\n",
      "73\t75111.3\t5162.7    \t80352.0   \t75084\t5268.0\t0\n",
      "80332.57795927292\n",
      "74\t75105.6\t5167.8    \t80333.0   \t75134\t5199.0\t0\n",
      "80324.6148323734\n",
      "75\t75113.0\t5159.3    \t80325.0   \t75220\t5105.0\t0\n",
      "80322.14614806749\n",
      "76\t75121.4\t5150.0    \t80322.0   \t75270\t5052.0\t0\n",
      "77\t75128.5\t5141.9    \t80322.0   \t75270\t5052.0\t0\n",
      "78\t75127.7\t5141.9    \t80392.0   \t75170\t5222.0\t0\n",
      "79\t75116.8\t5154.0    \t80392.0   \t75170\t5222.0\t0\n",
      "80\t75112.0\t5158.3    \t80384.0   \t75220\t5164.0\t0\n",
      "81\t75115.6\t5153.4    \t80384.0   \t75220\t5164.0\t0\n",
      "82\t75119.8\t5149.3    \t80384.0   \t75220\t5164.0\t0\n",
      "83\t75117.1\t5152.1    \t80384.0   \t75220\t5164.0\t0\n",
      "84\t75113.4\t5155.8    \t80339.0   \t75220\t5119.0\t0\n",
      "85\t75112.8\t5156.1    \t80399.0   \t75170\t5229.0\t0\n",
      "86\t75110.9\t5157.7    \t80394.0   \t75120\t5274.0\t0\n",
      "87\t75108.6\t5160.0    \t80394.0   \t75120\t5274.0\t0\n",
      "88\t75109.8\t5158.7    \t80394.0   \t75120\t5274.0\t0\n",
      "89\t75113.2\t5155.0    \t80399.0   \t75170\t5229.0\t0\n",
      "90\t75117.4\t5150.4    \t80396.0   \t75220\t5176.0\t0\n",
      "91\t75117.9\t5149.7    \t80381.0   \t75270\t5111.0\t0\n",
      "92\t75109.2\t5157.6    \t80381.0   \t75270\t5111.0\t0\n",
      "93\t75078.8\t5185.7    \t80326.0   \t75184\t5142.0\t0\n",
      "94\t75086.9\t5176.3    \t80329.0   \t75234\t5095.0\t0\n",
      "95\t75094.4\t5169.4    \t80329.0   \t75234\t5095.0\t0\n",
      "96\t75084.5\t5180.0    \t80335.0   \t75284\t5051.0\t0\n",
      "97\t75093.5\t5169.6    \t80323.0   \t75234\t5089.0\t0\n",
      "98\t75076.2\t5186.3    \t80324.0   \t75270\t5054.0\t0\n",
      "99\t75064.3\t5198.3    \t80324.0   \t75270\t5054.0\t0\n",
      "100\t75073.4\t5189.2    \t80324.0   \t75270\t5054.0\t0\n",
      "101\t75066.3\t5195.5    \t80323.0   \t75234\t5089.0\t0\n",
      "102\t75051.8\t5209.7    \t80329.0   \t75198\t5131.0\t0\n",
      "103\t75059.2\t5202.2    \t80329.0   \t75148\t5181.0\t0\n",
      "104\t75042.5\t5218.6    \t80329.0   \t75148\t5181.0\t0\n",
      "105\t75029.8\t5230.7    \t80329.0   \t75148\t5181.0\t0\n",
      "106\t75025.3\t5235.1    \t80334.0   \t75098\t5236.0\t0\n",
      "107\t75027.4\t5232.9    \t80332.0   \t75184\t5148.0\t0\n",
      "108\t75022.5\t5237.6    \t80332.0   \t75184\t5148.0\t0\n",
      "109\t75015.9\t5244.2    \t80334.0   \t75098\t5236.0\t0\n",
      "110\t75009.9\t5249.7    \t80329.0   \t75148\t5181.0\t0\n",
      "111\t75030.7\t5228.9    \t80329.0   \t75148\t5181.0\t0\n",
      "112\t75053.5\t5205.7    \t80326.0   \t75284\t5042.0\t0\n",
      "113\t75048.3\t5210.9    \t80326.0   \t75284\t5042.0\t0\n",
      "114\t75054.4\t5204.9    \t80341.0   \t75234\t5107.0\t0\n",
      "115\t75057.2\t5201.8    \t80339.0   \t75220\t5119.0\t0\n",
      "116\t75059.8\t5199.1    \t80324.0   \t75270\t5054.0\t0\n",
      "117\t75056.5\t5202.3    \t80324.0   \t75270\t5054.0\t0\n",
      "118\t75052.5\t5206.1    \t80326.0   \t75184\t5142.0\t0\n",
      "119\t75062.6\t5195.8    \t80329.0   \t75234\t5095.0\t0\n",
      "120\t75065.8\t5192.9    \t80326.0   \t75184\t5142.0\t0\n",
      "121\t75056.6\t5201.8    \t80326.0   \t75184\t5142.0\t0\n",
      "122\t75055.4\t5202.8    \t80326.0   \t75184\t5142.0\t0\n",
      "123\t75056.7\t5201.5    \t80324.0   \t75270\t5054.0\t0\n",
      "124\t75054.2\t5203.8    \t80324.0   \t75270\t5054.0\t0\n",
      "125\t75052.1\t5205.8    \t80324.0   \t75270\t5054.0\t0\n",
      "126\t75048.0\t5209.8    \t80326.0   \t75184\t5142.0\t0\n",
      "127\t75052.4\t5205.2    \t80331.0   \t75089\t5242.0\t0\n",
      "128\t75066.9\t5190.5    \t80331.0   \t75089\t5242.0\t0\n",
      "129\t75071.6\t5185.8    \t80334.0   \t75139\t5195.0\t0\n",
      "130\t75070.8\t5186.5    \t80334.0   \t75139\t5195.0\t0\n",
      "131\t75072.2\t5185.2    \t80331.0   \t75089\t5242.0\t0\n",
      "132\t75077.6\t5179.9    \t80329.0   \t75175\t5154.0\t0\n",
      "133\t75081.5\t5175.9    \t80329.0   \t75175\t5154.0\t0\n",
      "134\t75069.4\t5187.8    \t80331.0   \t75089\t5242.0\t0\n",
      "135\t75060.6\t5196.6    \t80334.0   \t75139\t5195.0\t0\n",
      "136\t75066.1\t5190.9    \t80334.0   \t75139\t5195.0\t0\n",
      "137\t75064.3\t5192.5    \t80334.0   \t75139\t5195.0\t0\n",
      "138\t75065.2\t5190.7    \t80331.0   \t75284\t5047.0\t0\n",
      "139\t75092.4\t5163.4    \t80331.0   \t75089\t5242.0\t0\n",
      "140\t75083.5\t5171.4    \t80331.0   \t75089\t5242.0\t0\n",
      "141\t75070.6\t5184.7    \t80331.0   \t75089\t5242.0\t0\n",
      "142\t75067.8\t5187.4    \t80331.0   \t75089\t5242.0\t0\n",
      "143\t75073.7\t5181.0    \t80333.0   \t75139\t5194.0\t0\n",
      "144\t75085.0\t5170.3    \t80331.0   \t75089\t5242.0\t0\n",
      "145\t75081.4\t5173.4    \t80331.0   \t75089\t5242.0\t0\n",
      "146\t75081.9\t5173.1    \t80331.0   \t75089\t5242.0\t0\n",
      "147\t75087.2\t5167.8    \t80331.0   \t75089\t5242.0\t0\n",
      "148\t75089.8\t5164.9    \t80331.0   \t75089\t5242.0\t0\n",
      "149\t75092.9\t5161.9    \t80331.0   \t75089\t5242.0\t0\n",
      "150\t75083.8\t5170.9    \t80331.0   \t75089\t5242.0\t0\n",
      "151\t75075.7\t5179.0    \t80331.0   \t75089\t5242.0\t0\n",
      "152\t75075.8\t5179.0    \t80331.0   \t75089\t5242.0\t0\n",
      "153\t75076.7\t5177.9    \t80331.0   \t75089\t5242.0\t0\n",
      "154\t75085.1\t5169.5    \t80331.0   \t75089\t5242.0\t0\n",
      "155\t75090.5\t5164.2    \t80331.0   \t75089\t5242.0\t0\n",
      "156\t75086.0\t5168.5    \t80331.0   \t75089\t5242.0\t0\n",
      "157\t75079.6\t5174.9    \t80331.0   \t75089\t5242.0\t0\n",
      "158\t75078.1\t5176.4    \t80331.0   \t75089\t5242.0\t0\n",
      "159\t75083.5\t5170.9    \t80331.0   \t75089\t5242.0\t0\n",
      "160\t75089.1\t5165.3    \t80331.0   \t75089\t5242.0\t0\n",
      "161\t75089.6\t5164.8    \t80331.0   \t75089\t5242.0\t0\n",
      "162\t75084.8\t5169.6    \t80331.0   \t75089\t5242.0\t0\n",
      "163\t75080.3\t5174.1    \t80331.0   \t75089\t5242.0\t0\n"
     ]
    },
    {
     "name": "stdout",
     "output_type": "stream",
     "text": [
      "164\t75081.2\t5173.1    \t80331.0   \t75089\t5242.0\t0\n",
      "165\t75076.7\t5177.5    \t80331.0   \t75089\t5242.0\t0\n",
      "166\t75077.1\t5177.1    \t80331.0   \t75089\t5242.0\t0\n",
      "167\t75095.0\t5159.7    \t80334.0   \t75139\t5195.0\t0\n",
      "168\t75082.2\t5171.9    \t80340.0   \t75062\t5278.0\t1\n",
      "169\t75036.6\t5221.0    \t80340.0   \t75189\t5151.0\t0\n",
      "170\t75101.8\t5153.5    \t80340.0   \t75189\t5151.0\t0\n",
      "171\t75118.7\t5138.5    \t80334.0   \t75139\t5195.0\t0\n",
      "172\t75089.9\t5165.4    \t80344.0   \t75039\t5305.0\t0\n",
      "173\t75076.0\t5179.7    \t80326.0   \t75039\t5287.0\t0\n",
      "174\t75064.4\t5191.7    \t80329.0   \t75175\t5154.0\t0\n",
      "175\t75085.2\t5169.4    \t80329.0   \t75175\t5154.0\t0\n",
      "176\t75102.9\t5151.9    \t80329.0   \t75175\t5154.0\t0\n",
      "177\t75099.5\t5156.3    \t80329.0   \t75175\t5154.0\t0\n",
      "178\t75107.9\t5147.8    \t80331.0   \t75089\t5242.0\t0\n",
      "179\t75080.1\t5175.3    \t80331.0   \t75089\t5242.0\t0\n",
      "180\t75070.1\t5185.2    \t80331.0   \t75089\t5242.0\t0\n",
      "181\t75077.9\t5177.8    \t80339.0   \t75003\t5336.0\t0\n",
      "182\t75075.6\t5179.3    \t80339.0   \t75003\t5336.0\t0\n",
      "183\t75078.6\t5176.4    \t80337.0   \t75089\t5248.0\t0\n",
      "184\t75090.6\t5164.5    \t80329.0   \t75175\t5154.0\t0\n",
      "185\t75089.2\t5165.3    \t80331.0   \t75089\t5242.0\t0\n",
      "186\t75069.8\t5184.9    \t80343.0   \t75089\t5254.0\t0\n",
      "187\t75079.4\t5175.6    \t80343.0   \t75089\t5254.0\t0\n",
      "188\t75085.3\t5169.2    \t80331.0   \t75089\t5242.0\t0\n",
      "189\t75087.5\t5166.9    \t80329.0   \t75175\t5154.0\t0\n",
      "190\t75103.6\t5151.1    \t80329.0   \t75175\t5154.0\t0\n",
      "191\t75088.0\t5166.5    \t80334.0   \t75139\t5195.0\t0\n",
      "192\t75076.3\t5177.9    \t80349.0   \t75089\t5260.0\t0\n",
      "193\t75079.4\t5175.0    \t80334.0   \t75139\t5195.0\t0\n",
      "194\t75081.5\t5172.8    \t80334.0   \t75139\t5195.0\t0\n",
      "195\t75094.0\t5160.3    \t80331.0   \t75089\t5242.0\t0\n",
      "196\t75093.6\t5160.6    \t80331.0   \t75089\t5242.0\t0\n",
      "197\t75087.5\t5166.6    \t80329.0   \t75175\t5154.0\t0\n",
      "198\t75085.3\t5168.8    \t80329.0   \t75175\t5154.0\t0\n",
      "199\t75076.4\t5177.8    \t80331.0   \t75089\t5242.0\t0\n",
      "200\t75076.9\t5177.2    \t80329.0   \t75175\t5154.0\t0\n",
      "201\t75087.2\t5166.9    \t80331.0   \t75089\t5242.0\t0\n",
      "202\t75086.2\t5167.9    \t80331.0   \t75089\t5242.0\t0\n",
      "203\t75083.0\t5171.0    \t80331.0   \t75089\t5242.0\t0\n",
      "204\t75086.6\t5167.4    \t80331.0   \t75089\t5242.0\t0\n",
      "205\t75082.3\t5171.7    \t80331.0   \t75089\t5242.0\t0\n",
      "206\t75082.4\t5171.5    \t80329.0   \t75175\t5154.0\t0\n",
      "207\t75092.1\t5161.9    \t80329.0   \t75175\t5154.0\t0\n",
      "208\t75087.8\t5166.2    \t80331.0   \t75089\t5242.0\t0\n",
      "209\t75084.1\t5169.8    \t80331.0   \t75089\t5242.0\t0\n",
      "210\t75085.6\t5168.3    \t80331.0   \t75089\t5242.0\t0\n",
      "211\t75082.6\t5171.3    \t80334.0   \t75139\t5195.0\t0\n",
      "212\t75088.1\t5165.8    \t80331.0   \t75089\t5242.0\t0\n",
      "213\t75088.5\t5165.4    \t80331.0   \t75089\t5242.0\t0\n",
      "214\t75082.8\t5171.1    \t80331.0   \t75089\t5242.0\t0\n",
      "215\t75083.5\t5170.4    \t80331.0   \t75089\t5242.0\t0\n",
      "216\t75080.5\t5173.3    \t80331.0   \t75089\t5242.0\t0\n",
      "217\t75082.1\t5171.7    \t80331.0   \t75089\t5242.0\t0\n",
      "218\t75090.0\t5163.8    \t80331.0   \t75089\t5242.0\t0\n",
      "219\t75088.5\t5165.3    \t80331.0   \t75089\t5242.0\t0\n",
      "220\t75087.2\t5166.6    \t80331.0   \t75089\t5242.0\t0\n",
      "221\t75086.1\t5167.7    \t80331.0   \t75089\t5242.0\t0\n",
      "222\t75081.2\t5172.6    \t80331.0   \t75089\t5242.0\t0\n",
      "223\t75084.2\t5169.6    \t80331.0   \t75089\t5242.0\t0\n",
      "224\t75086.9\t5166.9    \t80331.0   \t75089\t5242.0\t0\n",
      "225\t75086.3\t5167.5    \t80331.0   \t75089\t5242.0\t0\n",
      "226\t75088.1\t5165.7    \t80331.0   \t75089\t5242.0\t0\n",
      "227\t75085.0\t5168.8    \t80331.0   \t75089\t5242.0\t0\n",
      "228\t75085.5\t5168.2    \t80331.0   \t75089\t5242.0\t0\n",
      "229\t75097.4\t5156.0    \t80329.0   \t75184\t5145.0\t0\n",
      "230\t75143.7\t5116.5    \t80334.0   \t75139\t5195.0\t0\n",
      "231\t75079.7\t5175.7    \t80334.0   \t75139\t5195.0\t0\n",
      "232\t75079.1\t5177.4    \t80334.0   \t75139\t5195.0\t0\n",
      "233\t75072.4\t5184.7    \t80334.0   \t75053\t5281.0\t0\n",
      "234\t75064.4\t5193.4    \t80334.0   \t75053\t5281.0\t0\n",
      "235\t75058.1\t5198.7    \t80334.0   \t75053\t5281.0\t0\n",
      "236\t75053.6\t5202.2    \t80339.0   \t75003\t5336.0\t0\n",
      "237\t75062.7\t5192.4    \t80329.0   \t75175\t5154.0\t0\n",
      "238\t75091.7\t5163.1    \t80329.0   \t75175\t5154.0\t0\n",
      "239\t75091.3\t5163.9    \t80329.0   \t75175\t5154.0\t0\n",
      "240\t75086.7\t5168.1    \t80329.0   \t75175\t5154.0\t0\n",
      "241\t75086.5\t5169.3    \t80329.0   \t75175\t5154.0\t0\n",
      "242\t75087.3\t5167.7    \t80329.0   \t75175\t5154.0\t0\n",
      "243\t75100.3\t5154.6    \t80329.0   \t75175\t5154.0\t0\n",
      "244\t75106.1\t5148.6    \t80329.0   \t75175\t5154.0\t0\n",
      "245\t75090.4\t5163.7    \t80331.0   \t75089\t5242.0\t0\n",
      "246\t75079.2\t5175.1    \t80331.0   \t75089\t5242.0\t0\n",
      "247\t75087.0\t5167.3    \t80334.0   \t75139\t5195.0\t0\n",
      "248\t75093.1\t5161.6    \t80331.0   \t75089\t5242.0\t0\n",
      "249\t75087.5\t5166.8    \t80331.0   \t75089\t5242.0\t0\n",
      "250\t75086.8\t5167.5    \t80331.0   \t75089\t5242.0\t0\n",
      "251\t75094.1\t5159.8    \t80329.0   \t75175\t5154.0\t0\n",
      "252\t75092.7\t5161.2    \t80329.0   \t75175\t5154.0\t0\n",
      "253\t75085.9\t5168.0    \t80329.0   \t75175\t5154.0\t0\n",
      "254\t75092.5\t5161.5    \t80344.0   \t75125\t5219.0\t0\n",
      "255\t75093.7\t5160.0    \t80344.0   \t75125\t5219.0\t0\n",
      "256\t75090.6\t5163.2    \t80334.0   \t75139\t5195.0\t0\n",
      "257\t75088.8\t5164.9    \t80334.0   \t75139\t5195.0\t0\n",
      "258\t75076.8\t5176.9    \t80334.0   \t75139\t5195.0\t0\n",
      "259\t75074.7\t5178.9    \t80334.0   \t75139\t5195.0\t0\n",
      "260\t75081.5\t5172.3    \t80334.0   \t75139\t5195.0\t0\n",
      "261\t75079.6\t5174.0    \t80331.0   \t75089\t5242.0\t0\n",
      "262\t75078.7\t5175.0    \t80331.0   \t75089\t5242.0\t0\n",
      "263\t75085.6\t5167.9    \t80329.0   \t75175\t5154.0\t0\n",
      "264\t75087.4\t5166.2    \t80329.0   \t75175\t5154.0\t0\n",
      "265\t75088.6\t5164.8    \t80331.0   \t75089\t5242.0\t0\n",
      "266\t75089.0\t5164.5    \t80331.0   \t75089\t5242.0\t0\n",
      "267\t75087.4\t5166.0    \t80329.0   \t75175\t5154.0\t0\n",
      "268\t75089.4\t5164.0    \t80331.0   \t75089\t5242.0\t0\n",
      "269\t75085.4\t5167.8    \t80331.0   \t75089\t5242.0\t0\n",
      "270\t75083.0\t5170.1    \t80331.0   \t75089\t5242.0\t0\n",
      "271\t75090.5\t5162.1    \t80331.0   \t75089\t5242.0\t0\n",
      "272\t75098.8\t5153.1    \t80331.0   \t75089\t5242.0\t0\n",
      "273\t75112.5\t5140.1    \t80331.0   \t75089\t5242.0\t0\n",
      "274\t75117.2\t5138.7    \t80331.0   \t75089\t5242.0\t0\n",
      "275\t75106.0\t5146.5    \t80331.0   \t75089\t5242.0\t0\n",
      "276\t75114.1\t5139.9    \t80331.0   \t75089\t5242.0\t0\n",
      "277\t75103.2\t5148.4    \t80331.0   \t75089\t5242.0\t0\n",
      "278\t75084.9\t5167.0    \t80331.0   \t75089\t5242.0\t0\n",
      "279\t75087.6\t5163.1    \t80331.0   \t75089\t5242.0\t0\n",
      "280\t75112.5\t5138.8    \t80329.0   \t75175\t5154.0\t0\n",
      "281\t75129.1\t5122.0    \t80331.0   \t75089\t5242.0\t0\n",
      "282\t75131.1\t5119.6    \t80331.0   \t75089\t5242.0\t0\n",
      "283\t75129.9\t5121.2    \t80331.0   \t75089\t5242.0\t0\n",
      "284\t75117.3\t5133.0    \t80331.0   \t75089\t5242.0\t0\n",
      "285\t75120.3\t5130.3    \t80331.0   \t75089\t5242.0\t0\n",
      "286\t75109.0\t5141.0    \t80331.0   \t75089\t5242.0\t0\n",
      "287\t75123.4\t5127.3    \t80331.0   \t75089\t5242.0\t0\n",
      "288\t75084.8\t5166.0    \t80331.0   \t75089\t5242.0\t0\n",
      "289\t75114.9\t5135.4    \t80331.0   \t75089\t5242.0\t0\n",
      "290\t75111.6\t5137.5    \t80331.0   \t75089\t5242.0\t0\n",
      "291\t75109.8\t5139.8    \t80331.0   \t75089\t5242.0\t0\n",
      "292\t75122.3\t5127.2    \t80331.0   \t75089\t5242.0\t0\n",
      "293\t75109.1\t5140.1    \t80328.0   \t75139\t5189.0\t0\n",
      "294\t75116.8\t5131.9    \t80328.0   \t75139\t5189.0\t0\n",
      "295\t75121.3\t5127.7    \t80331.0   \t75089\t5242.0\t0\n",
      "296\t75108.7\t5140.5    \t80331.0   \t75089\t5242.0\t0\n",
      "297\t75119.7\t5129.3    \t80331.0   \t75089\t5242.0\t0\n",
      "298\t75102.5\t5146.3    \t80331.0   \t75089\t5242.0\t0\n",
      "299\t75108.2\t5140.4    \t80331.0   \t75089\t5242.0\t0\n",
      "300\t75125.9\t5122.9    \t80331.0   \t75089\t5242.0\t0\n",
      "301\t75114.0\t5134.4    \t80328.0   \t75139\t5189.0\t0\n",
      "302\t75115.6\t5132.6    \t80331.0   \t75089\t5242.0\t0\n",
      "303\t75124.5\t5123.6    \t80331.0   \t75089\t5242.0\t0\n",
      "304\t75107.7\t5140.0    \t80331.0   \t75089\t5242.0\t0\n",
      "305\t75109.4\t5137.6    \t80331.0   \t75089\t5242.0\t0\n",
      "306\t75105.0\t5142.3    \t80331.0   \t75089\t5242.0\t0\n",
      "307\t75076.1\t5171.1    \t80331.0   \t75089\t5242.0\t0\n",
      "308\t75079.3\t5167.6    \t80331.0   \t75089\t5242.0\t0\n",
      "309\t75088.8\t5158.0    \t80331.0   \t75089\t5242.0\t0\n",
      "310\t75087.7\t5159.5    \t80331.0   \t75089\t5242.0\t0\n",
      "311\t75083.9\t5162.8    \t80331.0   \t75089\t5242.0\t0\n",
      "312\t75083.8\t5163.9    \t80331.0   \t75089\t5242.0\t0\n",
      "313\t75074.5\t5172.4    \t80331.0   \t75089\t5242.0\t0\n",
      "314\t75085.6\t5161.0    \t80331.0   \t75089\t5242.0\t0\n",
      "315\t75095.9\t5150.7    \t80331.0   \t75089\t5242.0\t0\n",
      "316\t75100.9\t5145.8    \t80331.0   \t75089\t5242.0\t0\n",
      "317\t75106.9\t5139.6    \t80331.0   \t75089\t5242.0\t0\n",
      "318\t75112.1\t5135.0    \t80331.0   \t75089\t5242.0\t0\n",
      "319\t75096.7\t5149.8    \t80331.0   \t75089\t5242.0\t0\n",
      "320\t75089.0\t5158.2    \t80331.0   \t75089\t5242.0\t0\n",
      "321\t75095.2\t5151.4    \t80331.0   \t75089\t5242.0\t0\n",
      "322\t75101.0\t5146.5    \t80331.0   \t75089\t5242.0\t0\n",
      "323\t75081.8\t5165.3    \t80331.0   \t75089\t5242.0\t0\n",
      "324\t75076.3\t5170.2    \t80331.0   \t75089\t5242.0\t0\n",
      "325\t75079.8\t5167.1    \t80331.0   \t75089\t5242.0\t0\n",
      "326\t75086.8\t5159.7    \t80331.0   \t75089\t5242.0\t0\n",
      "327\t75092.7\t5154.1    \t80331.0   \t75089\t5242.0\t0\n",
      "328\t75105.3\t5141.5    \t80331.0   \t75089\t5242.0\t0\n",
      "329\t75097.8\t5148.7    \t80331.0   \t75089\t5242.0\t0\n",
      "330\t75095.6\t5150.9    \t80331.0   \t75089\t5242.0\t0\n"
     ]
    },
    {
     "name": "stdout",
     "output_type": "stream",
     "text": [
      "331\t75102.8\t5143.7    \t80331.0   \t75089\t5242.0\t0\n",
      "332\t75098.8\t5147.7    \t80331.0   \t75089\t5242.0\t0\n",
      "333\t75090.3\t5156.0    \t80331.0   \t75089\t5242.0\t0\n",
      "334\t75095.6\t5151.0    \t80331.0   \t75089\t5242.0\t0\n",
      "335\t75091.3\t5155.1    \t80331.0   \t75089\t5242.0\t0\n",
      "336\t75097.6\t5148.7    \t80331.0   \t75089\t5242.0\t0\n",
      "337\t75091.9\t5154.4    \t80331.0   \t75089\t5242.0\t0\n",
      "338\t75092.4\t5154.2    \t80331.0   \t75089\t5242.0\t0\n",
      "339\t75084.6\t5161.6    \t80331.0   \t75089\t5242.0\t0\n",
      "340\t75092.4\t5153.9    \t80331.0   \t75089\t5242.0\t0\n",
      "341\t75094.1\t5152.1    \t80331.0   \t75089\t5242.0\t0\n",
      "342\t75091.7\t5154.7    \t80331.0   \t75089\t5242.0\t0\n",
      "343\t75100.2\t5146.0    \t80331.0   \t75089\t5242.0\t0\n",
      "344\t75107.0\t5139.5    \t80331.0   \t75089\t5242.0\t0\n",
      "345\t75092.4\t5153.9    \t80331.0   \t75089\t5242.0\t0\n",
      "346\t75092.9\t5153.1    \t80331.0   \t75089\t5242.0\t0\n",
      "347\t75090.7\t5155.4    \t80331.0   \t75089\t5242.0\t0\n",
      "348\t75086.7\t5159.3    \t80331.0   \t75089\t5242.0\t0\n",
      "349\t75098.4\t5147.5    \t80331.0   \t75089\t5242.0\t0\n",
      "350\t75097.0\t5148.6    \t80331.0   \t75089\t5242.0\t0\n"
     ]
    },
    {
     "ename": "KeyboardInterrupt",
     "evalue": "",
     "output_type": "error",
     "traceback": [
      "\u001b[1;31m---------------------------------------------------------------------------\u001b[0m",
      "\u001b[1;31mKeyboardInterrupt\u001b[0m                         Traceback (most recent call last)",
      "\u001b[1;32m<ipython-input-109-12bdce4aeea9>\u001b[0m in \u001b[0;36m<module>\u001b[1;34m\u001b[0m\n\u001b[0;32m      3\u001b[0m     \u001b[0mx\u001b[0m\u001b[1;33m,\u001b[0m \u001b[0my\u001b[0m\u001b[1;33m,\u001b[0m \u001b[0mv\u001b[0m\u001b[1;33m=\u001b[0m \u001b[0mmodel\u001b[0m\u001b[1;33m(\u001b[0m\u001b[1;33m)\u001b[0m\u001b[1;33m\u001b[0m\u001b[1;33m\u001b[0m\u001b[0m\n\u001b[0;32m      4\u001b[0m     \u001b[0mloss\u001b[0m \u001b[1;33m=\u001b[0m \u001b[0mx\u001b[0m \u001b[1;33m+\u001b[0m \u001b[0my\u001b[0m \u001b[1;33m+\u001b[0m \u001b[0mv\u001b[0m\u001b[1;33m\u001b[0m\u001b[1;33m\u001b[0m\u001b[0m\n\u001b[1;32m----> 5\u001b[1;33m     \u001b[0mloss\u001b[0m\u001b[1;33m.\u001b[0m\u001b[0mbackward\u001b[0m\u001b[1;33m(\u001b[0m\u001b[1;33m)\u001b[0m\u001b[1;33m\u001b[0m\u001b[1;33m\u001b[0m\u001b[0m\n\u001b[0m\u001b[0;32m      6\u001b[0m     \u001b[0moptimizer\u001b[0m\u001b[1;33m.\u001b[0m\u001b[0mstep\u001b[0m\u001b[1;33m(\u001b[0m\u001b[1;33m)\u001b[0m\u001b[1;33m\u001b[0m\u001b[1;33m\u001b[0m\u001b[0m\n\u001b[0;32m      7\u001b[0m \u001b[1;33m\u001b[0m\u001b[0m\n",
      "\u001b[1;32mC:\\WorkData\\anaconda3\\lib\\site-packages\\torch\\tensor.py\u001b[0m in \u001b[0;36mbackward\u001b[1;34m(self, gradient, retain_graph, create_graph)\u001b[0m\n\u001b[0;32m    105\u001b[0m                 \u001b[0mproducts\u001b[0m\u001b[1;33m.\u001b[0m \u001b[0mDefaults\u001b[0m \u001b[0mto\u001b[0m\u001b[0;31m \u001b[0m\u001b[0;31m`\u001b[0m\u001b[0;31m`\u001b[0m\u001b[1;32mFalse\u001b[0m\u001b[0;31m`\u001b[0m\u001b[0;31m`\u001b[0m\u001b[1;33m.\u001b[0m\u001b[1;33m\u001b[0m\u001b[1;33m\u001b[0m\u001b[0m\n\u001b[0;32m    106\u001b[0m         \"\"\"\n\u001b[1;32m--> 107\u001b[1;33m         \u001b[0mtorch\u001b[0m\u001b[1;33m.\u001b[0m\u001b[0mautograd\u001b[0m\u001b[1;33m.\u001b[0m\u001b[0mbackward\u001b[0m\u001b[1;33m(\u001b[0m\u001b[0mself\u001b[0m\u001b[1;33m,\u001b[0m \u001b[0mgradient\u001b[0m\u001b[1;33m,\u001b[0m \u001b[0mretain_graph\u001b[0m\u001b[1;33m,\u001b[0m \u001b[0mcreate_graph\u001b[0m\u001b[1;33m)\u001b[0m\u001b[1;33m\u001b[0m\u001b[1;33m\u001b[0m\u001b[0m\n\u001b[0m\u001b[0;32m    108\u001b[0m \u001b[1;33m\u001b[0m\u001b[0m\n\u001b[0;32m    109\u001b[0m     \u001b[1;32mdef\u001b[0m \u001b[0mregister_hook\u001b[0m\u001b[1;33m(\u001b[0m\u001b[0mself\u001b[0m\u001b[1;33m,\u001b[0m \u001b[0mhook\u001b[0m\u001b[1;33m)\u001b[0m\u001b[1;33m:\u001b[0m\u001b[1;33m\u001b[0m\u001b[1;33m\u001b[0m\u001b[0m\n",
      "\u001b[1;32mC:\\WorkData\\anaconda3\\lib\\site-packages\\torch\\autograd\\__init__.py\u001b[0m in \u001b[0;36mbackward\u001b[1;34m(tensors, grad_tensors, retain_graph, create_graph, grad_variables)\u001b[0m\n\u001b[0;32m     91\u001b[0m     Variable._execution_engine.run_backward(\n\u001b[0;32m     92\u001b[0m         \u001b[0mtensors\u001b[0m\u001b[1;33m,\u001b[0m \u001b[0mgrad_tensors\u001b[0m\u001b[1;33m,\u001b[0m \u001b[0mretain_graph\u001b[0m\u001b[1;33m,\u001b[0m \u001b[0mcreate_graph\u001b[0m\u001b[1;33m,\u001b[0m\u001b[1;33m\u001b[0m\u001b[1;33m\u001b[0m\u001b[0m\n\u001b[1;32m---> 93\u001b[1;33m         allow_unreachable=True)  # allow_unreachable flag\n\u001b[0m\u001b[0;32m     94\u001b[0m \u001b[1;33m\u001b[0m\u001b[0m\n\u001b[0;32m     95\u001b[0m \u001b[1;33m\u001b[0m\u001b[0m\n",
      "\u001b[1;31mKeyboardInterrupt\u001b[0m: "
     ]
    }
   ],
   "source": [
    "for epoch in tqdm.tqdm_notebook(range(100)):\n",
    "    optimizer.zero_grad()\n",
    "    x, y, v= model()\n",
    "    loss = x + y + v\n",
    "    loss.backward()\n",
    "    optimizer.step()\n",
    "    \n",
    "    if epoch % 1 == 0:\n",
    "        pos = model.weight.argmax(1).cpu().numpy()\n",
    "        pred = []\n",
    "        for i in range(5000):\n",
    "            pred.append(data.iloc[i][f'choice_{pos[i]}'])\n",
    "        pred = np.array(pred)\n",
    "        a, b, v = cost_function(pred)\n",
    "        score = a + b\n",
    "        if (score < best_score) and v == 0:\n",
    "            best_score = score\n",
    "            best_pos = pred\n",
    "            print(best_score)\n",
    "            submission['assigned_day'] = best_pos\n",
    "            submission.to_csv(f'submission.csv')\n",
    "\n",
    "        x = np.round(x.item(),1)\n",
    "        y = np.round(y.item(),1)\n",
    "        print(f'{epoch}\\t{x}\\t{y}    \\t{np.round(score)}   \\t{a}\\t{np.round(b)}\\t{v}')"
   ]
  },
  {
   "cell_type": "code",
   "execution_count": null,
   "metadata": {},
   "outputs": [],
   "source": []
  }
 ],
 "metadata": {
  "kernelspec": {
   "display_name": "Python 3",
   "language": "python",
   "name": "python3"
  },
  "language_info": {
   "codemirror_mode": {
    "name": "ipython",
    "version": 3
   },
   "file_extension": ".py",
   "mimetype": "text/x-python",
   "name": "python",
   "nbconvert_exporter": "python",
   "pygments_lexer": "ipython3",
   "version": "3.6.8"
  },
  "toc": {
   "base_numbering": 1,
   "nav_menu": {},
   "number_sections": true,
   "sideBar": true,
   "skip_h1_title": false,
   "title_cell": "Table of Contents",
   "title_sidebar": "Contents",
   "toc_cell": false,
   "toc_position": {},
   "toc_section_display": true,
   "toc_window_display": false
  },
  "varInspector": {
   "cols": {
    "lenName": 16,
    "lenType": 16,
    "lenVar": 40
   },
   "kernels_config": {
    "python": {
     "delete_cmd_postfix": "",
     "delete_cmd_prefix": "del ",
     "library": "var_list.py",
     "varRefreshCmd": "print(var_dic_list())"
    },
    "r": {
     "delete_cmd_postfix": ") ",
     "delete_cmd_prefix": "rm(",
     "library": "var_list.r",
     "varRefreshCmd": "cat(var_dic_list()) "
    }
   },
   "types_to_exclude": [
    "module",
    "function",
    "builtin_function_or_method",
    "instance",
    "_Feature"
   ],
   "window_display": false
  }
 },
 "nbformat": 4,
 "nbformat_minor": 2
}
