{
 "cells": [
  {
   "cell_type": "code",
   "execution_count": 2,
   "metadata": {
    "ExecuteTime": {
     "end_time": "2019-12-20T05:07:14.121073Z",
     "start_time": "2019-12-20T05:07:06.942951Z"
    }
   },
   "outputs": [
    {
     "data": {
      "text/plain": [
       "array([[ 4, 52]], dtype=int64)"
      ]
     },
     "execution_count": 2,
     "metadata": {},
     "output_type": "execute_result"
    }
   ],
   "source": [
    "import numpy as np\n",
    "import pandas as pd\n",
    "from numba import njit\n",
    "import itertools\n",
    "from multiprocessing import Pool, cpu_count\n",
    "\n",
    "PATH = './santa-workshop-tour-2019/'\n",
    "\n",
    "fam = pd.read_csv(PATH+'family_data.csv')\n",
    "sub = pd.read_csv('submission.csv')\n",
    "fam = pd.merge(fam,sub, how='left', on='family_id')\n",
    "choices = fam[['choice_'+str(i) for i in range(10)]].values\n",
    "fam = fam[['n_people','assigned_day']].values\n",
    "fam[:1]"
   ]
  },
  {
   "cell_type": "code",
   "execution_count": 3,
   "metadata": {
    "ExecuteTime": {
     "end_time": "2019-12-20T05:07:46.990617Z",
     "start_time": "2019-12-20T05:07:42.174199Z"
    }
   },
   "outputs": [],
   "source": [
    "fam_costs = np.zeros((5000,101))\n",
    "for f in range(5000):\n",
    "    for d in range(1,101):\n",
    "        l = list(choices[f])\n",
    "        if d in l:\n",
    "            if l.index(d) == 0:\n",
    "                fam_costs[f,d] = 0\n",
    "            elif l.index(d) == 1:\n",
    "                fam_costs[f,d] = 50\n",
    "            elif l.index(d) == 2:\n",
    "                fam_costs[f,d] = 50 + 9 * fam[f,0]\n",
    "            elif l.index(d) == 3:\n",
    "                fam_costs[f,d] = 100 + 9 * fam[f,0]\n",
    "            elif l.index(d) == 4:\n",
    "                fam_costs[f,d] = 200 + 9 * fam[f,0]\n",
    "            elif l.index(d) == 5:\n",
    "                fam_costs[f,d] = 200 + 18 * fam[f,0]\n",
    "            elif l.index(d) == 6:\n",
    "                fam_costs[f,d] = 300 + 18 * fam[f,0]\n",
    "            elif l.index(d) == 7:\n",
    "                fam_costs[f,d] = 300 + 36 * fam[f,0]\n",
    "            elif l.index(d) == 8:\n",
    "                fam_costs[f,d] = 400 + 36 * fam[f,0]\n",
    "            elif l.index(d) == 9:\n",
    "                fam_costs[f,d] = 500 + 235 * fam[f,0]\n",
    "        else:\n",
    "            fam_costs[f,d] = 500 + 434 * fam[f,0]"
   ]
  },
  {
   "cell_type": "code",
   "execution_count": 5,
   "metadata": {
    "ExecuteTime": {
     "end_time": "2019-12-20T05:08:14.416494Z",
     "start_time": "2019-12-20T05:08:14.404525Z"
    }
   },
   "outputs": [],
   "source": [
    "@njit(fastmath=True)\n",
    "def fclip(p,l=0.):\n",
    "    for i in range(len(p)):\n",
    "        if p[i]<l:\n",
    "            p[i]=l\n",
    "    return p\n",
    "\n",
    "@njit(fastmath=True)\n",
    "def cost_function(pred, p1=1_000_000_000, p2=4000):\n",
    "    days = np.array(list(range(100,0,-1)))\n",
    "    daily_occupancy = np.zeros(101)\n",
    "    penalty = 0\n",
    "    for i in range(5000):\n",
    "        penalty += fam_costs[i,pred[i,1]]\n",
    "        daily_occupancy[pred[i,1]] += pred[i,0]\n",
    "\n",
    "    for v in daily_occupancy[1:]:\n",
    "        if (v < 125) or (v >300):\n",
    "            if v > 300:\n",
    "                penalty += p1 + abs(v-300)*p2\n",
    "            else:\n",
    "                penalty += p1 + abs(v-125)*p2\n",
    "\n",
    "    penalty += max(0, (daily_occupancy[days[0]]-125.0) / 400.0 * daily_occupancy[days[0]]**(0.5))\n",
    "    do = daily_occupancy[::-1]\n",
    "    p = (do[1:] - 125.) / 400. * do[1:] ** (0.5 + ( np.abs(do[1:]-do[:-1]) / 50.0))\n",
    "    penalty += np.sum(fclip(p))\n",
    "\n",
    "    return penalty"
   ]
  },
  {
   "cell_type": "code",
   "execution_count": 6,
   "metadata": {
    "ExecuteTime": {
     "end_time": "2019-12-20T05:08:35.834143Z",
     "start_time": "2019-12-20T05:08:33.768473Z"
    }
   },
   "outputs": [
    {
     "data": {
      "text/plain": [
       "73531.78997813533"
      ]
     },
     "execution_count": 6,
     "metadata": {},
     "output_type": "execute_result"
    }
   ],
   "source": [
    "best = cost_function(fam)\n",
    "best"
   ]
  },
  {
   "cell_type": "code",
   "execution_count": 7,
   "metadata": {
    "ExecuteTime": {
     "end_time": "2019-12-20T05:09:06.760647Z",
     "start_time": "2019-12-20T05:09:06.746691Z"
    }
   },
   "outputs": [],
   "source": [
    "@njit(fastmath=True)\n",
    "def penalty_score_(d, cp, dc):\n",
    "    penalty = 0\n",
    "    yc, tc = dc[d + 1], dc[d] + cp #current\n",
    "    penalty += max(0, (tc-125.0) / 400.0 * tc**(0.5 + abs(tc - yc) / 50.0))\n",
    "    yc, tc = dc[d] + cp, dc[d -1] #next\n",
    "    penalty += max(0, (tc-125.0) / 400.0 * tc**(0.5 + abs(tc - yc) / 50.0))\n",
    "    return penalty\n",
    "\n",
    "@njit(fastmath=True)\n",
    "def penalty_score(f,cd,d,cp, dc):\n",
    "    old = penalty_score_(int(cd), 0, dc) +  penalty_score_(int(d), 0, dc) + fam_costs[f][cd]\n",
    "    new = penalty_score_(int(cd), -int(cp), dc) +  penalty_score_(int(d), int(cp), dc) + fam_costs[f][d]\n",
    "    return new - old\n",
    "\n",
    "@njit(fastmath=True)\n",
    "def penalty_score2(f1,f2,d1,d2,c1,c2, dc): #single swap - can be improved\n",
    "    old = penalty_score_(int(d1), 0, dc) +  penalty_score_(int(d2), 0, dc) + fam_costs[f1][d1] + fam_costs[f2][d2]\n",
    "    new = penalty_score_(int(d1), int(c2-c1), dc) +  penalty_score_(int(d2), int(c1-c2), dc) + fam_costs[f1][d2] + fam_costs[f2][d1]\n",
    "    return new - old"
   ]
  },
  {
   "cell_type": "code",
   "execution_count": 8,
   "metadata": {
    "ExecuteTime": {
     "end_time": "2019-12-20T05:09:29.688303Z",
     "start_time": "2019-12-20T05:09:29.538703Z"
    }
   },
   "outputs": [],
   "source": [
    "@njit(fastmath=True)\n",
    "def optimizer(pred):\n",
    "    days = np.array(list(range(100,1,-1)))\n",
    "    days_count = np.zeros(101)\n",
    "    for i in range(5000):\n",
    "        days_count[pred[i,1]] += pred[i,0]\n",
    "    for f in range(5000):\n",
    "        cd = int(pred[f,1])\n",
    "        if cd > 1 and cd < 100:\n",
    "            cp = int(pred[f,0])\n",
    "            for d in days[1:-1]:\n",
    "                if d != cd:\n",
    "                    if days_count[d]+cp>=125 and days_count[d]+cp<=300 and days_count[cd]-cp >= 125 and days_count[cd]-cp<=300:\n",
    "                        if penalty_score(f, int(cd), int(d), int(cp), days_count)<0:\n",
    "                            days_count[d] += cp\n",
    "                            days_count[cd] -= cp\n",
    "                            pred[f,1] = int(d)\n",
    "                            cd = int(d)\n",
    "                        elif fam_costs[f,d] <= fam_costs[f,cd]:\n",
    "                            dtf = [fx for fx in range(5000) if ((pred[fx,1]==d) and (pred[fx,0]==cp))]\n",
    "                            for j in dtf: #like for like no move cost\n",
    "                                if j != f:\n",
    "                                    if fam_costs[f,d] + fam_costs[j,cd] <= fam_costs[f,cd] + fam_costs[j,d]:\n",
    "                                        pred[f,1] = int(d)\n",
    "                                        pred[j,1] = int(cd)\n",
    "                                        cd = int(d)\n",
    "                                        #break\n",
    "    return pred\n",
    "\n",
    "#https://www.kaggle.com/c/santa-workshop-tour-2019/discussion/119858#latest-687217\n",
    "@njit(fastmath=True)\n",
    "def optimizer_a(pred, annealing=5, seed=10):\n",
    "    np.random.seed(seed)\n",
    "    days = np.array(list(range(100,1,-1)))\n",
    "    days_count = np.zeros(101)\n",
    "    for i in range(5000):\n",
    "        days_count[pred[i,1]] += pred[i,0]\n",
    "    for f in range(4999,0,-1):\n",
    "        cd = int(pred[f,1])\n",
    "        if cd > 1 and cd < 100:\n",
    "            cp = int(pred[f,0])\n",
    "            for d in days[1:-1]:\n",
    "                if d != cd:\n",
    "                    if days_count[d]+cp>=125 and days_count[d]+cp<=300 and days_count[cd]-cp >= 125 and days_count[cd]-cp<=300:\n",
    "                        if penalty_score(f, int(cd), int(d), int(cp), days_count)<  np.random.randint(0, annealing):\n",
    "                            days_count[d] += cp\n",
    "                            days_count[cd] -= cp\n",
    "                            pred[f,1] = int(d)\n",
    "                            cd = int(d)\n",
    "                        elif fam_costs[f,d] <= fam_costs[f,cd]:\n",
    "                            dtf = [fx for fx in range(5000) if ((pred[fx,1]==d) and (pred[fx,0]==cp))]\n",
    "                            for j in dtf: #like for like no move cost\n",
    "                                if j != f:\n",
    "                                    if fam_costs[f,d] + fam_costs[j,cd] <= fam_costs[f,cd] + fam_costs[j,d] + np.random.randint(0, annealing):\n",
    "                                        pred[f,1] = int(d)\n",
    "                                        pred[j,1] = int(cd)\n",
    "                                        cd = int(d)\n",
    "                                        #break\n",
    "    return pred\n",
    "\n",
    "@njit(fastmath=True)\n",
    "def optimizer_a2(fam, annealing=5., seed=10):\n",
    "    np.random.seed(seed)\n",
    "    days_count = np.zeros(101)\n",
    "    for i in range(5000):\n",
    "        days_count[fam[i,1]] += fam[i,0]\n",
    "    for f1 in range(0,5000,1):\n",
    "        for f2 in range(f1+1,5000,1):\n",
    "            d1, d2 = int(fam[f1,1]), int(fam[f2,1])\n",
    "            c1, c2 = int(fam[f1,0]), int(fam[f2,0])\n",
    "            if f1 != f2 and d1 != d2 and min([d1,d2])>1 and max([d1,d2])<100:\n",
    "                if days_count[d1]+c2-c1>125 and days_count[d1]+c2-c1<300 and days_count[d2]+c1-c2 > 125 and days_count[d2]+c1-c2<300:\n",
    "                    if penalty_score2(int(f1), int(f2), int(d1), int(d2), int(c1), int(c2), days_count) <= 0 +  np.random.randint(0, annealing):\n",
    "                        #print(f1,d1,c1, f2, d2,c2, penalty_score2(int(f1), int(f2), int(d1), int(d2), int(c1), int(c2), days_count))\n",
    "                        days_count[d2] += c1 - c2\n",
    "                        days_count[d1] += c2 - c1\n",
    "                        fam[f1,1] = int(d2)\n",
    "                        fam[f2,1] = int(d1)\n",
    "                        d1 = int(d2)\n",
    "                        #print(cost_function(fam))\n",
    "    return fam\n",
    "\n",
    "@njit(fastmath=True)\n",
    "def optimizer_a3(fam, p1=1_000_000_000, p2=4000):\n",
    "    for f1 in range(5000):\n",
    "        for d in range(1,101):\n",
    "            temp = fam.copy()\n",
    "            temp[f1,1] = d\n",
    "            #temp[f1+1,1] = d\n",
    "            if cost_function(temp,p1,p2) < cost_function(fam,p1,p2):\n",
    "                #print(f1, d, cost_function(temp)- cost_function(fam))\n",
    "                fam = temp.copy()\n",
    "        if f1 % 1000 == 0:\n",
    "            print('...', f1, cost_function(fam))\n",
    "    return fam"
   ]
  },
  {
   "cell_type": "code",
   "execution_count": 10,
   "metadata": {
    "ExecuteTime": {
     "end_time": "2019-12-20T05:21:18.020224Z",
     "start_time": "2019-12-20T05:15:48.171849Z"
    }
   },
   "outputs": [
    {
     "name": "stdout",
     "output_type": "stream",
     "text": [
      "... 0 73531.78997813533\n",
      "... 1000 73531.78997813533\n",
      "... 2000 73531.78997813533\n",
      "... 3000 73531.78997813533\n",
      "... 4000 1000089363.7000074\n",
      "... 0 1000196954.1153157\n",
      "... 1000 1000106375.8674225\n",
      "... 2000 74946.56674472571\n",
      "... 3000 74921.65183705968\n",
      "... 4000 74921.65183705968\n",
      "0 74921.65183705968\n",
      "... 0 74821.86986303152\n",
      "... 1000 1000165446.9794445\n",
      "... 2000 1000228768.7559563\n",
      "... 3000 1000248680.8964977\n",
      "... 4000 2000288472.1088638\n",
      "... 0 3000312248.258544\n",
      "... 1000 1000170305.5350785\n",
      "... 2000 75382.16513660923\n",
      "... 3000 75365.83471938712\n",
      "... 4000 75344.98200088704\n",
      "1 75342.950149542\n",
      "... 0 75329.56667437509\n",
      "... 1000 3000213333.7458344\n",
      "... 2000 3000308295.4815207\n",
      "... 3000 2000356128.872315\n",
      "... 4000 2000364090.3979223\n",
      "... 0 2000364073.3077388\n",
      "... 1000 1000190226.8133131\n",
      "... 2000 75780.94083542367\n",
      "... 3000 75763.30539994141\n",
      "... 4000 75732.55788181713\n",
      "2 75708.21587598964\n",
      "... 0 75698.52301464033\n",
      "... 1000 2000245634.520499\n",
      "... 2000 2000364113.0223176\n",
      "... 3000 2000364082.376547\n",
      "... 4000 2000364072.7775898\n",
      "... 0 2000364071.9757411\n",
      "... 1000 1000190227.7459451\n",
      "... 2000 75765.0511153362\n",
      "... 3000 75731.92969940792\n",
      "... 4000 75731.92969940792\n",
      "3 75727.48020785645\n",
      "Wall time: 5min 29s\n"
     ]
    }
   ],
   "source": [
    "%%time\n",
    "best_fam = fam.copy()\n",
    "for j in range(4):\n",
    "    fam = optimizer_a3(fam,100,10)\n",
    "    fam = optimizer_a3(fam,100,100)\n",
    "    print(j,cost_function(fam))\n",
    "    for i in range(30,5,-2):\n",
    "        th = i*10\n",
    "        df = optimizer_a(fam, i/3, i+1)\n",
    "        new = cost_function(df)\n",
    "        #print(i, new, new - best)\n",
    "        if new <= best + th:\n",
    "            fam = optimizer_a(df)\n",
    "            fam = optimizer_a2(fam, 10, i+1)\n",
    "            fam = optimizer(df) \n",
    "            new = cost_function(fam)\n",
    "            print((j, i), new, new - best)\n",
    "            if new < best:\n",
    "                best = new\n",
    "                best_fam = fam.copy()\n",
    "fam = optimizer(best_fam)\n",
    "best = cost_function(fam)\n",
    "pd.DataFrame({'family_id':list(range(5000)), 'assigned_day':fam[:,1]}).to_csv(f'submission_baseline_{best}.csv', index=False)"
   ]
  },
  {
   "cell_type": "code",
   "execution_count": null,
   "metadata": {},
   "outputs": [],
   "source": []
  }
 ],
 "metadata": {
  "kernelspec": {
   "display_name": "Python 3",
   "language": "python",
   "name": "python3"
  },
  "language_info": {
   "codemirror_mode": {
    "name": "ipython",
    "version": 3
   },
   "file_extension": ".py",
   "mimetype": "text/x-python",
   "name": "python",
   "nbconvert_exporter": "python",
   "pygments_lexer": "ipython3",
   "version": "3.6.8"
  },
  "toc": {
   "base_numbering": 1,
   "nav_menu": {},
   "number_sections": true,
   "sideBar": true,
   "skip_h1_title": false,
   "title_cell": "Table of Contents",
   "title_sidebar": "Contents",
   "toc_cell": false,
   "toc_position": {},
   "toc_section_display": true,
   "toc_window_display": false
  },
  "varInspector": {
   "cols": {
    "lenName": 16,
    "lenType": 16,
    "lenVar": 40
   },
   "kernels_config": {
    "python": {
     "delete_cmd_postfix": "",
     "delete_cmd_prefix": "del ",
     "library": "var_list.py",
     "varRefreshCmd": "print(var_dic_list())"
    },
    "r": {
     "delete_cmd_postfix": ") ",
     "delete_cmd_prefix": "rm(",
     "library": "var_list.r",
     "varRefreshCmd": "cat(var_dic_list()) "
    }
   },
   "types_to_exclude": [
    "module",
    "function",
    "builtin_function_or_method",
    "instance",
    "_Feature"
   ],
   "window_display": false
  }
 },
 "nbformat": 4,
 "nbformat_minor": 2
}
