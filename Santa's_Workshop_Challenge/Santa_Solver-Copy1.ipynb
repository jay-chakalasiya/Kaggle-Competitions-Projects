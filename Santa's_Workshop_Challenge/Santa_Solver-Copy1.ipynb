{
 "cells": [
  {
   "cell_type": "code",
   "execution_count": 49,
   "metadata": {
    "ExecuteTime": {
     "end_time": "2019-12-19T01:59:53.683162Z",
     "start_time": "2019-12-19T01:59:53.678176Z"
    }
   },
   "outputs": [],
   "source": [
    "import pandas as pd\n",
    "import os\n",
    "PATH = './santa-workshop-tour-2019/'"
   ]
  },
  {
   "cell_type": "markdown",
   "metadata": {},
   "source": [
    "# Data Exploration"
   ]
  },
  {
   "cell_type": "code",
   "execution_count": 50,
   "metadata": {
    "ExecuteTime": {
     "end_time": "2019-12-19T01:59:54.518962Z",
     "start_time": "2019-12-19T01:59:54.495988Z"
    }
   },
   "outputs": [
    {
     "data": {
      "text/html": [
       "<div>\n",
       "<style scoped>\n",
       "    .dataframe tbody tr th:only-of-type {\n",
       "        vertical-align: middle;\n",
       "    }\n",
       "\n",
       "    .dataframe tbody tr th {\n",
       "        vertical-align: top;\n",
       "    }\n",
       "\n",
       "    .dataframe thead th {\n",
       "        text-align: right;\n",
       "    }\n",
       "</style>\n",
       "<table border=\"1\" class=\"dataframe\">\n",
       "  <thead>\n",
       "    <tr style=\"text-align: right;\">\n",
       "      <th></th>\n",
       "      <th>family_id</th>\n",
       "      <th>choice_0</th>\n",
       "      <th>choice_1</th>\n",
       "      <th>choice_2</th>\n",
       "      <th>choice_3</th>\n",
       "      <th>choice_4</th>\n",
       "      <th>choice_5</th>\n",
       "      <th>choice_6</th>\n",
       "      <th>choice_7</th>\n",
       "      <th>choice_8</th>\n",
       "      <th>choice_9</th>\n",
       "      <th>n_people</th>\n",
       "    </tr>\n",
       "  </thead>\n",
       "  <tbody>\n",
       "    <tr>\n",
       "      <th>0</th>\n",
       "      <td>0</td>\n",
       "      <td>52</td>\n",
       "      <td>38</td>\n",
       "      <td>12</td>\n",
       "      <td>82</td>\n",
       "      <td>33</td>\n",
       "      <td>75</td>\n",
       "      <td>64</td>\n",
       "      <td>76</td>\n",
       "      <td>10</td>\n",
       "      <td>28</td>\n",
       "      <td>4</td>\n",
       "    </tr>\n",
       "    <tr>\n",
       "      <th>1</th>\n",
       "      <td>1</td>\n",
       "      <td>26</td>\n",
       "      <td>4</td>\n",
       "      <td>82</td>\n",
       "      <td>5</td>\n",
       "      <td>11</td>\n",
       "      <td>47</td>\n",
       "      <td>38</td>\n",
       "      <td>6</td>\n",
       "      <td>66</td>\n",
       "      <td>61</td>\n",
       "      <td>4</td>\n",
       "    </tr>\n",
       "    <tr>\n",
       "      <th>2</th>\n",
       "      <td>2</td>\n",
       "      <td>100</td>\n",
       "      <td>54</td>\n",
       "      <td>25</td>\n",
       "      <td>12</td>\n",
       "      <td>27</td>\n",
       "      <td>82</td>\n",
       "      <td>10</td>\n",
       "      <td>89</td>\n",
       "      <td>80</td>\n",
       "      <td>33</td>\n",
       "      <td>3</td>\n",
       "    </tr>\n",
       "    <tr>\n",
       "      <th>3</th>\n",
       "      <td>3</td>\n",
       "      <td>2</td>\n",
       "      <td>95</td>\n",
       "      <td>1</td>\n",
       "      <td>96</td>\n",
       "      <td>32</td>\n",
       "      <td>6</td>\n",
       "      <td>40</td>\n",
       "      <td>31</td>\n",
       "      <td>9</td>\n",
       "      <td>59</td>\n",
       "      <td>2</td>\n",
       "    </tr>\n",
       "    <tr>\n",
       "      <th>4</th>\n",
       "      <td>4</td>\n",
       "      <td>53</td>\n",
       "      <td>1</td>\n",
       "      <td>47</td>\n",
       "      <td>93</td>\n",
       "      <td>26</td>\n",
       "      <td>3</td>\n",
       "      <td>46</td>\n",
       "      <td>16</td>\n",
       "      <td>42</td>\n",
       "      <td>39</td>\n",
       "      <td>4</td>\n",
       "    </tr>\n",
       "  </tbody>\n",
       "</table>\n",
       "</div>"
      ],
      "text/plain": [
       "   family_id  choice_0  choice_1  choice_2  choice_3  choice_4  choice_5  \\\n",
       "0          0        52        38        12        82        33        75   \n",
       "1          1        26         4        82         5        11        47   \n",
       "2          2       100        54        25        12        27        82   \n",
       "3          3         2        95         1        96        32         6   \n",
       "4          4        53         1        47        93        26         3   \n",
       "\n",
       "   choice_6  choice_7  choice_8  choice_9  n_people  \n",
       "0        64        76        10        28         4  \n",
       "1        38         6        66        61         4  \n",
       "2        10        89        80        33         3  \n",
       "3        40        31         9        59         2  \n",
       "4        46        16        42        39         4  "
      ]
     },
     "execution_count": 50,
     "metadata": {},
     "output_type": "execute_result"
    }
   ],
   "source": [
    "family_data = pd.read_csv(PATH+'family_data.csv')\n",
    "family_data.head()"
   ]
  },
  {
   "cell_type": "code",
   "execution_count": 51,
   "metadata": {
    "ExecuteTime": {
     "end_time": "2019-12-19T01:59:55.152505Z",
     "start_time": "2019-12-19T01:59:54.985927Z"
    }
   },
   "outputs": [
    {
     "data": {
      "text/plain": [
       "<matplotlib.axes._subplots.AxesSubplot at 0x280796e4518>"
      ]
     },
     "execution_count": 51,
     "metadata": {},
     "output_type": "execute_result"
    },
    {
     "data": {
      "image/png": "[encoded data removed]",
      "text/plain": [
       "<Figure size 432x288 with 1 Axes>"
      ]
     },
     "metadata": {
      "needs_background": "light"
     },
     "output_type": "display_data"
    }
   ],
   "source": [
    "family_data.groupby(['choice_0']).sum()['n_people'].plot()"
   ]
  },
  {
   "cell_type": "code",
   "execution_count": 52,
   "metadata": {
    "ExecuteTime": {
     "end_time": "2019-12-19T01:59:55.541441Z",
     "start_time": "2019-12-19T01:59:55.357933Z"
    }
   },
   "outputs": [
    {
     "data": {
      "text/plain": [
       "<matplotlib.axes._subplots.AxesSubplot at 0x2807b42d438>"
      ]
     },
     "execution_count": 52,
     "metadata": {},
     "output_type": "execute_result"
    },
    {
     "data": {
      "image/png": "[encoded data removed]",
      "text/plain": [
       "<Figure size 432x288 with 1 Axes>"
      ]
     },
     "metadata": {
      "needs_background": "light"
     },
     "output_type": "display_data"
    }
   ],
   "source": [
    "family_data['choice_0'].value_counts().sort_index().plot()"
   ]
  },
  {
   "cell_type": "markdown",
   "metadata": {},
   "source": [
    "# Globals"
   ]
  },
  {
   "cell_type": "code",
   "execution_count": 90,
   "metadata": {
    "ExecuteTime": {
     "end_time": "2019-12-19T03:24:28.987794Z",
     "start_time": "2019-12-19T03:24:28.907966Z"
    }
   },
   "outputs": [],
   "source": [
    "N_DAYS = 100\n",
    "MAX_OCCUPANCY = 300\n",
    "MIN_OCCUPANCY = 125\n",
    "\n",
    "days = list(range(N_DAYS, 0, -1))\n",
    "choice_dict = family_data[[f'choice_{i}' for i in range(10)]].to_dict()\n",
    "family_size_dict = family_data[['n_people']].to_dict()['n_people']\n",
    "\n",
    "OUT_PATH = './submission.csv'\n",
    "submission = pd.read_csv(OUT_PATH, index_col='family_id')"
   ]
  },
  {
   "cell_type": "markdown",
   "metadata": {},
   "source": [
    "# Cost Function"
   ]
  },
  {
   "cell_type": "code",
   "execution_count": 91,
   "metadata": {
    "ExecuteTime": {
     "end_time": "2019-12-19T03:24:29.979101Z",
     "start_time": "2019-12-19T03:24:29.965141Z"
    }
   },
   "outputs": [],
   "source": [
    "def cost_function(prediction):\n",
    "\n",
    "    penalty = 0\n",
    "\n",
    "    # We'll use this to count the number of people scheduled each day\n",
    "    daily_occupancy = {k:0 for k in days}\n",
    "    \n",
    "    # Looping over each family; d is the day for each family f\n",
    "    for f, d in enumerate(prediction):\n",
    "\n",
    "        # Using our lookup dictionaries to make simpler variable names\n",
    "        n = family_size_dict[f]\n",
    "        choice_0 = choice_dict['choice_0'][f]\n",
    "        choice_1 = choice_dict['choice_1'][f]\n",
    "        choice_2 = choice_dict['choice_2'][f]\n",
    "        choice_3 = choice_dict['choice_3'][f]\n",
    "        choice_4 = choice_dict['choice_4'][f]\n",
    "        choice_5 = choice_dict['choice_5'][f]\n",
    "        choice_6 = choice_dict['choice_6'][f]\n",
    "        choice_7 = choice_dict['choice_7'][f]\n",
    "        choice_8 = choice_dict['choice_8'][f]\n",
    "        choice_9 = choice_dict['choice_9'][f]\n",
    "\n",
    "        # add the family member count to the daily occupancy\n",
    "        daily_occupancy[d] += n\n",
    "\n",
    "        # Calculate the penalty for not getting top preference\n",
    "        if d == choice_0:\n",
    "            penalty += 0\n",
    "        elif d == choice_1:\n",
    "            penalty += 50\n",
    "        elif d == choice_2:\n",
    "            penalty += 50 + 9 * n\n",
    "        elif d == choice_3:\n",
    "            penalty += 100 + 9 * n\n",
    "        elif d == choice_4:\n",
    "            penalty += 200 + 9 * n\n",
    "        elif d == choice_5:\n",
    "            penalty += 200 + 18 * n\n",
    "        elif d == choice_6:\n",
    "            penalty += 300 + 18 * n\n",
    "        elif d == choice_7:\n",
    "            penalty += 300 + 36 * n\n",
    "        elif d == choice_8:\n",
    "            penalty += 400 + 36 * n\n",
    "        elif d == choice_9:\n",
    "            penalty += 500 + 36 * n + 199 * n\n",
    "        else:\n",
    "            penalty += 500 + 36 * n + 398 * n\n",
    "\n",
    "    # for each date, check total occupancy\n",
    "    #  (using soft constraints instead of hard constraints)\n",
    "    for _, v in daily_occupancy.items():\n",
    "        if (v > MAX_OCCUPANCY) or (v < MIN_OCCUPANCY):\n",
    "            penalty += 100000000\n",
    "\n",
    "    # Calculate the accounting cost\n",
    "    # The first day (day 100) is treated special\n",
    "    accounting_cost = (daily_occupancy[days[0]]-125.0) / 400.0 * daily_occupancy[days[0]]**(0.5)\n",
    "    # using the max function because the soft constraints might allow occupancy to dip below 125\n",
    "    accounting_cost = max(0, accounting_cost)\n",
    "    \n",
    "    # Loop over the rest of the days, keeping track of previous count\n",
    "    yesterday_count = daily_occupancy[days[0]]\n",
    "    for day in days[1:]:\n",
    "        today_count = daily_occupancy[day]\n",
    "        diff = abs(today_count - yesterday_count)\n",
    "        accounting_cost += max(0, (daily_occupancy[day]-125.0) / 400.0 * daily_occupancy[day]**(0.5 + diff / 50.0))\n",
    "        yesterday_count = today_count\n",
    "\n",
    "    penalty += accounting_cost\n",
    "\n",
    "    return penalty"
   ]
  },
  {
   "cell_type": "code",
   "execution_count": 93,
   "metadata": {
    "ExecuteTime": {
     "end_time": "2019-12-19T04:34:23.479102Z",
     "start_time": "2019-12-19T04:30:53.274295Z"
    },
    "scrolled": true
   },
   "outputs": [
    {
     "name": "stdout",
     "output_type": "stream",
     "text": [
      "74965.63318421025\n",
      "500\n",
      "1000\n",
      "1500\n",
      "2000\n",
      "2500\n",
      "3000\n"
     ]
    },
    {
     "ename": "KeyboardInterrupt",
     "evalue": "",
     "output_type": "error",
     "traceback": [
      "\u001b[1;31m---------------------------------------------------------------------------\u001b[0m",
      "\u001b[1;31mKeyboardInterrupt\u001b[0m                         Traceback (most recent call last)",
      "\u001b[1;32m<ipython-input-93-c61d242f5cbf>\u001b[0m in \u001b[0;36m<module>\u001b[1;34m\u001b[0m\n\u001b[0;32m     18\u001b[0m         \u001b[0mtemp\u001b[0m \u001b[1;33m=\u001b[0m \u001b[0mnew\u001b[0m\u001b[1;33m.\u001b[0m\u001b[0mcopy\u001b[0m\u001b[1;33m(\u001b[0m\u001b[1;33m)\u001b[0m\u001b[1;33m\u001b[0m\u001b[1;33m\u001b[0m\u001b[0m\n\u001b[0;32m     19\u001b[0m         \u001b[0mtemp\u001b[0m\u001b[1;33m[\u001b[0m\u001b[0mfam_id\u001b[0m\u001b[1;33m]\u001b[0m \u001b[1;33m=\u001b[0m \u001b[0mday\u001b[0m \u001b[1;31m# add in the new pick\u001b[0m\u001b[1;33m\u001b[0m\u001b[1;33m\u001b[0m\u001b[0m\n\u001b[1;32m---> 20\u001b[1;33m         \u001b[1;32mif\u001b[0m \u001b[0mcost_function\u001b[0m\u001b[1;33m(\u001b[0m\u001b[0mtemp\u001b[0m\u001b[1;33m)\u001b[0m \u001b[1;33m<\u001b[0m \u001b[0mstart_score\u001b[0m\u001b[1;33m:\u001b[0m\u001b[1;33m\u001b[0m\u001b[1;33m\u001b[0m\u001b[0m\n\u001b[0m\u001b[0;32m     21\u001b[0m             \u001b[0mnew\u001b[0m \u001b[1;33m=\u001b[0m \u001b[0mtemp\u001b[0m\u001b[1;33m.\u001b[0m\u001b[0mcopy\u001b[0m\u001b[1;33m(\u001b[0m\u001b[1;33m)\u001b[0m\u001b[1;33m\u001b[0m\u001b[1;33m\u001b[0m\u001b[0m\n\u001b[0;32m     22\u001b[0m             \u001b[0mstart_score\u001b[0m \u001b[1;33m=\u001b[0m \u001b[0mcost_function\u001b[0m\u001b[1;33m(\u001b[0m\u001b[0mnew\u001b[0m\u001b[1;33m)\u001b[0m\u001b[1;33m\u001b[0m\u001b[1;33m\u001b[0m\u001b[0m\n",
      "\u001b[1;32m<ipython-input-91-236066587fe7>\u001b[0m in \u001b[0;36mcost_function\u001b[1;34m(prediction)\u001b[0m\n\u001b[0;32m     10\u001b[0m \u001b[1;33m\u001b[0m\u001b[0m\n\u001b[0;32m     11\u001b[0m         \u001b[1;31m# Using our lookup dictionaries to make simpler variable names\u001b[0m\u001b[1;33m\u001b[0m\u001b[1;33m\u001b[0m\u001b[1;33m\u001b[0m\u001b[0m\n\u001b[1;32m---> 12\u001b[1;33m         \u001b[0mn\u001b[0m \u001b[1;33m=\u001b[0m \u001b[0mfamily_size_dict\u001b[0m\u001b[1;33m[\u001b[0m\u001b[0mf\u001b[0m\u001b[1;33m]\u001b[0m\u001b[1;33m\u001b[0m\u001b[1;33m\u001b[0m\u001b[0m\n\u001b[0m\u001b[0;32m     13\u001b[0m         \u001b[0mchoice_0\u001b[0m \u001b[1;33m=\u001b[0m \u001b[0mchoice_dict\u001b[0m\u001b[1;33m[\u001b[0m\u001b[1;34m'choice_0'\u001b[0m\u001b[1;33m]\u001b[0m\u001b[1;33m[\u001b[0m\u001b[0mf\u001b[0m\u001b[1;33m]\u001b[0m\u001b[1;33m\u001b[0m\u001b[1;33m\u001b[0m\u001b[0m\n\u001b[0;32m     14\u001b[0m         \u001b[0mchoice_1\u001b[0m \u001b[1;33m=\u001b[0m \u001b[0mchoice_dict\u001b[0m\u001b[1;33m[\u001b[0m\u001b[1;34m'choice_1'\u001b[0m\u001b[1;33m]\u001b[0m\u001b[1;33m[\u001b[0m\u001b[0mf\u001b[0m\u001b[1;33m]\u001b[0m\u001b[1;33m\u001b[0m\u001b[1;33m\u001b[0m\u001b[0m\n",
      "\u001b[1;31mKeyboardInterrupt\u001b[0m: "
     ]
    }
   ],
   "source": [
    "# Start with the sample submission values\n",
    "best = submission['assigned_day'].tolist()\n",
    "start_score = cost_function(best)\n",
    "print(start_score)\n",
    "\n",
    "new = best.copy()\n",
    "# loop over each family\n",
    "\n",
    "i=0\n",
    "\n",
    "for fam_id, _ in enumerate(best):\n",
    "    i+=1\n",
    "    if i%500==0:\n",
    "        print(i)\n",
    "    # loop over each family choice\n",
    "    for pick in range(10):\n",
    "        day = choice_dict[f'choice_{pick}'][fam_id]\n",
    "        temp = new.copy()\n",
    "        temp[fam_id] = day # add in the new pick\n",
    "        if cost_function(temp) < start_score:\n",
    "            new = temp.copy()\n",
    "            start_score = cost_function(new)\n",
    "            print(start_score)\n",
    "            \n",
    "submission['assigned_day'] = new\n",
    "score = cost_function(new)\n",
    "print(score)\n",
    "submission.to_csv(f'submission_{score}.csv')\n",
    "submission.to_csv(f'submission.csv')\n",
    "print(f'Score: {score}')\n",
    "            "
   ]
  },
  {
   "cell_type": "code",
   "execution_count": null,
   "metadata": {},
   "outputs": [],
   "source": []
  },
  {
   "cell_type": "markdown",
   "metadata": {},
   "source": [
    "# Pytorch Approach"
   ]
  },
  {
   "cell_type": "code",
   "execution_count": 70,
   "metadata": {
    "ExecuteTime": {
     "end_time": "2019-12-19T03:04:12.508519Z",
     "start_time": "2019-12-19T03:04:12.501501Z"
    }
   },
   "outputs": [],
   "source": [
    "import numpy as np\n",
    "import pandas as pd\n",
    "from pathlib import Path\n",
    "import tqdm\n",
    "import torch\n",
    "import torch.nn as nn\n",
    "import torch.nn.functional as F\n",
    "from torch.autograd import Variable\n",
    "from numba import njit\n",
    "MAX_CHOICE=5\n"
   ]
  },
  {
   "cell_type": "code",
   "execution_count": 71,
   "metadata": {
    "ExecuteTime": {
     "end_time": "2019-12-19T03:04:12.892456Z",
     "start_time": "2019-12-19T03:04:12.888468Z"
    }
   },
   "outputs": [],
   "source": [
    "root_path = './santa-workshop-tour-2019/'\n",
    "best_submit_path='./'"
   ]
  },
  {
   "cell_type": "code",
   "execution_count": 72,
   "metadata": {
    "ExecuteTime": {
     "end_time": "2019-12-19T03:04:13.365198Z",
     "start_time": "2019-12-19T03:04:13.342283Z"
    }
   },
   "outputs": [],
   "source": [
    "fpath = root_path + 'family_data.csv'\n",
    "data = pd.read_csv(fpath, index_col='family_id')\n",
    "\n",
    "fpath = root_path + 'sample_submission.csv'\n",
    "submission = pd.read_csv(fpath, index_col='family_id')"
   ]
  },
  {
   "cell_type": "code",
   "execution_count": 80,
   "metadata": {
    "ExecuteTime": {
     "end_time": "2019-12-19T03:10:12.630971Z",
     "start_time": "2019-12-19T03:10:11.670542Z"
    }
   },
   "outputs": [],
   "source": [
    "dummies = []\n",
    "for i in range(MAX_CHOICE):\n",
    "    dummies.append((pd.get_dummies(data[f'choice_{i}']).values*data['n_people'].values.astype(np.int8).reshape(-1,1)).reshape(5000, 100, 1))\n",
    "dummies = np.concatenate(dummies, axis=2)\n",
    "dummies = np.swapaxes(dummies, 1, 2)\n",
    "\n",
    "penalties = {n: [0, 50, 50 + 9 * n, 100 + 9 * n, 200 + 9 * n, 200 + 18 * n, 300 + 18 * n, 300 + 36 * n, 400 + 36 * n, 500 + 36 * n + 199 * n] for n in np.unique(data['n_people'])}\n",
    "\n",
    "mat = []\n",
    "for i in range(5000):\n",
    "    n = data.iloc[i]['n_people']\n",
    "    mat.append(penalties[n][:MAX_CHOICE])\n",
    "mat = np.array(mat)\n",
    "\n",
    "initial_sub = pd.read_csv(best_submit_path+'submission.csv')\n",
    "fam_choices = data\n",
    "a = pd.merge(initial_sub, fam_choices, on='family_id')\n",
    "    \n",
    "initial_choices = []\n",
    "for i in range(MAX_CHOICE):\n",
    "    initial_choices.append(((a[f'choice_{i}'] == a['assigned_day'])).values.reshape(-1,1))\n",
    "initial_choices = np.concatenate(initial_choices, axis=1)\n",
    "initial_choices = torch.tensor(\n",
    "   initial_choices*10\n",
    "    , dtype=torch.float32)#.cuda()"
   ]
  },
  {
   "cell_type": "code",
   "execution_count": 81,
   "metadata": {
    "ExecuteTime": {
     "end_time": "2019-12-19T03:10:13.288840Z",
     "start_time": "2019-12-19T03:10:12.739684Z"
    }
   },
   "outputs": [],
   "source": [
    "family_size_dict = data[['n_people']].to_dict()['n_people']\n",
    "\n",
    "cols = [f'choice_{i}' for i in range(10)]\n",
    "choice_dict = data[cols].T.to_dict()\n",
    "\n",
    "N_DAYS = 100\n",
    "MAX_OCCUPANCY = 300\n",
    "MIN_OCCUPANCY = 125\n",
    "\n",
    "# from 100 to 1\n",
    "days = list(range(N_DAYS,0,-1))\n",
    "\n",
    "family_size_ls = list(family_size_dict.values())\n",
    "choice_dict_num = [{vv:i for i, vv in enumerate(di.values())} for di in choice_dict.values()]\n",
    "\n",
    "# Computer penalities in a list\n",
    "penalties_dict = {\n",
    "    n: [\n",
    "        0,\n",
    "        50,\n",
    "        50 + 9 * n,\n",
    "        100 + 9 * n,\n",
    "        200 + 9 * n,\n",
    "        200 + 18 * n,\n",
    "        300 + 18 * n,\n",
    "        300 + 36 * n,\n",
    "        400 + 36 * n,\n",
    "        500 + 36 * n + 199 * n,\n",
    "        500 + 36 * n + 398 * n\n",
    "    ]\n",
    "    for n in range(max(family_size_dict.values())+1)\n",
    "} \n",
    "\n",
    "def cost_function(prediction):\n",
    "    penalty = 0\n",
    "    violations = 0\n",
    "    # We'll use this to count the number of people scheduled each day\n",
    "    daily_occupancy = {k:0 for k in days}\n",
    "    \n",
    "    # Looping over each family; d is the day, n is size of that family, \n",
    "    # and choice is their top choices\n",
    "    for n, d, choice in zip(family_size_ls, prediction, choice_dict_num):\n",
    "        # add the family member count to the daily occupancy\n",
    "        daily_occupancy[d] += n\n",
    "\n",
    "        # Calculate the penalty for not getting top preference\n",
    "        if d not in choice:\n",
    "            penalty += penalties_dict[n][-1]\n",
    "        else:\n",
    "            penalty += penalties_dict[n][choice[d]]\n",
    "\n",
    "    # for each date, check total occupancy\n",
    "    #  (using soft constraints instead of hard constraints)\n",
    "    for v in daily_occupancy.values():\n",
    "        if (v > MAX_OCCUPANCY) or (v < MIN_OCCUPANCY):\n",
    "            violations += 1\n",
    "#             penalty += 100000000\n",
    "\n",
    "    # Calculate the accounting cost\n",
    "    # The first day (day 100) is treated special\n",
    "    accounting_cost = (daily_occupancy[days[0]]-125.0) / 400.0 * daily_occupancy[days[0]]**(0.5)\n",
    "    # using the max function because the soft constraints might allow occupancy to dip below 125\n",
    "    accounting_cost = max(0, accounting_cost)\n",
    "    \n",
    "    # Loop over the rest of the days, keeping track of previous count\n",
    "    yesterday_count = daily_occupancy[days[0]]\n",
    "    for day in days[1:]:\n",
    "        today_count = daily_occupancy[day]\n",
    "        diff = abs(today_count - yesterday_count)\n",
    "        accounting_cost += max(0, (daily_occupancy[day]-125.0) / 400.0 * daily_occupancy[day]**(0.5 + diff / 50.0))\n",
    "        yesterday_count = today_count\n",
    "\n",
    "    return penalty, accounting_cost, violations"
   ]
  },
  {
   "cell_type": "code",
   "execution_count": 82,
   "metadata": {
    "ExecuteTime": {
     "end_time": "2019-12-19T03:10:14.119024Z",
     "start_time": "2019-12-19T03:10:14.101071Z"
    }
   },
   "outputs": [
    {
     "data": {
      "text/plain": [
       "(69925, 5096.423822331035, 0)"
      ]
     },
     "execution_count": 82,
     "metadata": {},
     "output_type": "execute_result"
    }
   ],
   "source": [
    "cost_function(initial_sub['assigned_day'].values)"
   ]
  },
  {
   "cell_type": "code",
   "execution_count": 83,
   "metadata": {
    "ExecuteTime": {
     "end_time": "2019-12-19T03:10:15.899985Z",
     "start_time": "2019-12-19T03:10:15.892001Z"
    }
   },
   "outputs": [],
   "source": [
    "class Model(nn.Module):\n",
    "    def __init__(self, mat, dummies):\n",
    "        super().__init__()\n",
    "        self.mat = torch.from_numpy(mat).type(torch.float32)#.cuda()\n",
    "        self.dummies = torch.from_numpy(dummies).type(torch.float32)#.cuda()\n",
    "        self.weight = torch.nn.Parameter(data=torch.Tensor(5000, MAX_CHOICE)#.cuda()\n",
    "                                         , requires_grad=True)\n",
    "        self.weight.data.copy_(initial_choices)\n",
    "        \n",
    "    def forward(self):\n",
    "        prob = F.softmax(self.weight,dim=1)\n",
    "        \n",
    "        x = (prob * self.mat).sum()\n",
    "        \n",
    "        daily_occupancy = torch.zeros(100, dtype=torch.float32)#.cuda()\n",
    "        for i in range(5000):\n",
    "            daily_occupancy += prob[i]@self.dummies[i]\n",
    "        diff = torch.cat([torch.abs(daily_occupancy[:-1] - daily_occupancy[1:]), torch.Tensor([0])])\n",
    "        y = ( torch.relu(daily_occupancy-125.0) / 400.0 * daily_occupancy**(0.5 + diff / 50.0)).sum() \n",
    "        \n",
    "        v = (torch.relu(125-daily_occupancy)**2+torch.relu(daily_occupancy-300)**2).sum()\n",
    "            \n",
    "        return  x, y, v*10000"
   ]
  },
  {
   "cell_type": "code",
   "execution_count": 84,
   "metadata": {
    "ExecuteTime": {
     "end_time": "2019-12-19T03:10:17.586210Z",
     "start_time": "2019-12-19T03:10:17.575249Z"
    }
   },
   "outputs": [],
   "source": [
    "model = Model(mat, dummies)\n",
    "best_score = 10e10\n",
    "best_pos = None\n",
    "optimizer = torch.optim.Adam(model.parameters(), lr = 1)"
   ]
  },
  {
   "cell_type": "code",
   "execution_count": 86,
   "metadata": {
    "ExecuteTime": {
     "end_time": "2019-12-19T03:16:28.819010Z",
     "start_time": "2019-12-19T03:13:36.433377Z"
    },
    "scrolled": false
   },
   "outputs": [
    {
     "data": {
      "application/vnd.jupyter.widget-view+json": {
       "model_id": "4cbb680aa76545daa96e4fa17ec3b745",
       "version_major": 2,
       "version_minor": 0
      },
      "text/plain": [
       "HBox(children=(IntProgress(value=0), HTML(value='')))"
      ]
     },
     "metadata": {},
     "output_type": "display_data"
    },
    {
     "name": "stdout",
     "output_type": "stream",
     "text": [
      "0\t69840.8\t5052.9    \t75023.0   \t70043\t4980.0\t0\n",
      "1\t69841.6\t5052.1    \t75023.0   \t70043\t4980.0\t0\n",
      "2\t69839.1\t5054.6    \t75023.0   \t70043\t4980.0\t0\n",
      "3\t69839.8\t5053.8    \t75023.0   \t70043\t4980.0\t0\n",
      "4\t69840.4\t5053.1    \t75023.0   \t70043\t4980.0\t0\n",
      "5\t69836.3\t5057.2    \t75023.0   \t70043\t4980.0\t0\n",
      "6\t69836.1\t5057.3    \t75023.0   \t70043\t4980.0\t0\n",
      "7\t69840.5\t5052.7    \t75023.0   \t70043\t4980.0\t0\n",
      "8\t69844.4\t5048.4    \t75023.0   \t70043\t4980.0\t0\n",
      "9\t69850.9\t5042.6    \t75023.0   \t70043\t4980.0\t0\n",
      "10\t69853.6\t5039.5    \t75023.0   \t70043\t4980.0\t0\n",
      "11\t69843.9\t5048.8    \t75023.0   \t70043\t4980.0\t0\n",
      "12\t69832.4\t5059.6    \t75031.0   \t70016\t5015.0\t0\n",
      "13\t69830.9\t5061.7    \t75025.0   \t69966\t5059.0\t0\n",
      "14\t69830.8\t5061.2    \t75023.0   \t70043\t4980.0\t0\n",
      "15\t69826.9\t5065.2    \t75023.0   \t70043\t4980.0\t0\n",
      "16\t69832.0\t5059.7    \t75031.0   \t70016\t5015.0\t0\n",
      "17\t69841.8\t5050.0    \t75031.0   \t70016\t5015.0\t0\n",
      "18\t69843.1\t5048.6    \t75023.0   \t70043\t4980.0\t0\n",
      "19\t69837.6\t5054.6    \t75025.0   \t69966\t5059.0\t0\n",
      "20\t69827.8\t5063.8    \t75025.0   \t69966\t5059.0\t0\n",
      "21\t69827.0\t5064.5    \t75023.0   \t70043\t4980.0\t0\n",
      "22\t69831.4\t5060.5    \t75023.0   \t70043\t4980.0\t0\n",
      "23\t69839.2\t5052.6    \t75023.0   \t70043\t4980.0\t0\n",
      "24\t69839.5\t5052.1    \t75023.0   \t70043\t4980.0\t0\n",
      "25\t69832.2\t5059.4    \t75025.0   \t69966\t5059.0\t0\n",
      "26\t69830.8\t5060.9    \t75023.0   \t69993\t5030.0\t0\n",
      "27\t69829.6\t5062.0    \t75023.0   \t70043\t4980.0\t0\n",
      "28\t69833.7\t5057.9    \t75023.0   \t70043\t4980.0\t0\n",
      "29\t69841.6\t5049.8    \t75023.0   \t70043\t4980.0\t0\n",
      "30\t69842.8\t5048.6    \t75023.0   \t70043\t4980.0\t0\n",
      "31\t69840.1\t5051.1    \t75025.0   \t69966\t5059.0\t0\n",
      "32\t69835.6\t5055.6    \t75023.0   \t70043\t4980.0\t0\n",
      "33\t69834.3\t5056.8    \t75023.0   \t70043\t4980.0\t0\n",
      "34\t69838.4\t5052.4    \t75023.0   \t70043\t4980.0\t0\n",
      "35\t69841.6\t5049.3    \t75031.0   \t70016\t5015.0\t0\n",
      "36\t69842.1\t5049.1    \t75031.0   \t70016\t5015.0\t0\n",
      "37\t69841.4\t5049.5    \t75023.0   \t70043\t4980.0\t0\n",
      "38\t69837.6\t5053.2    \t75023.0   \t70043\t4980.0\t0\n",
      "39\t69833.8\t5057.2    \t75023.0   \t70043\t4980.0\t0\n",
      "40\t69837.8\t5053.1    \t75023.0   \t70043\t4980.0\t0\n",
      "41\t69840.3\t5050.5    \t75023.0   \t70043\t4980.0\t0\n",
      "42\t69837.0\t5053.8    \t75023.0   \t70043\t4980.0\t0\n",
      "43\t69834.6\t5056.1    \t75023.0   \t70043\t4980.0\t0\n",
      "44\t69834.2\t5056.5    \t75023.0   \t70043\t4980.0\t0\n",
      "45\t69837.0\t5053.6    \t75023.0   \t70043\t4980.0\t0\n",
      "46\t69842.5\t5048.0    \t75023.0   \t70043\t4980.0\t0\n",
      "47\t69844.9\t5045.5    \t75023.0   \t70043\t4980.0\t0\n",
      "48\t69843.4\t5047.2    \t75023.0   \t70043\t4980.0\t0\n",
      "49\t69841.6\t5048.9    \t75031.0   \t70016\t5015.0\t0\n",
      "50\t69840.0\t5050.4    \t75023.0   \t70043\t4980.0\t0\n",
      "51\t69839.0\t5051.3    \t75023.0   \t70043\t4980.0\t0\n",
      "52\t69836.6\t5053.6    \t75023.0   \t70043\t4980.0\t0\n",
      "53\t69834.5\t5055.7    \t75023.0   \t70043\t4980.0\t0\n",
      "54\t69834.6\t5055.6    \t75023.0   \t70043\t4980.0\t0\n",
      "55\t69833.9\t5056.1    \t75023.0   \t70043\t4980.0\t0\n",
      "56\t69833.3\t5056.7    \t75023.0   \t70043\t4980.0\t0\n",
      "57\t69835.2\t5054.7    \t75023.0   \t70043\t4980.0\t0\n",
      "58\t69836.9\t5052.9    \t75023.0   \t70043\t4980.0\t0\n",
      "59\t69837.6\t5052.0    \t75023.0   \t70043\t4980.0\t0\n",
      "60\t69838.1\t5051.4    \t75023.0   \t70043\t4980.0\t0\n",
      "61\t69841.5\t5048.1    \t75020.0   \t70138\t4882.0\t0\n",
      "62\t69837.4\t5052.2    \t75020.0   \t70138\t4882.0\t0\n",
      "63\t69829.1\t5060.6    \t75020.0   \t70138\t4882.0\t0\n",
      "64\t69824.5\t5065.1    \t75020.0   \t70138\t4882.0\t0\n",
      "65\t69829.0\t5060.6    \t75020.0   \t70138\t4882.0\t0\n",
      "66\t69833.0\t5056.5    \t75020.0   \t70138\t4882.0\t0\n",
      "67\t69831.4\t5058.1    \t75020.0   \t70138\t4882.0\t0\n",
      "68\t69828.8\t5060.6    \t75023.0   \t70043\t4980.0\t0\n",
      "69\t69825.6\t5063.8    \t75023.0   \t70043\t4980.0\t0\n",
      "70\t69828.6\t5061.0    \t75023.0   \t70043\t4980.0\t0\n",
      "71\t69834.2\t5055.3    \t75023.0   \t70043\t4980.0\t0\n",
      "72\t69835.6\t5053.7    \t75023.0   \t70043\t4980.0\t0\n",
      "73\t69829.6\t5059.6    \t75020.0   \t70138\t4882.0\t0\n",
      "74\t69820.4\t5069.4    \t75020.0   \t70138\t4882.0\t0\n",
      "75\t69827.0\t5062.2    \t75020.0   \t70138\t4882.0\t0\n",
      "76\t69834.7\t5054.5    \t75020.0   \t70138\t4882.0\t0\n",
      "77\t69831.4\t5057.9    \t75020.0   \t70138\t4882.0\t0\n",
      "78\t69824.9\t5064.4    \t75020.0   \t70138\t4882.0\t0\n",
      "79\t69827.9\t5061.2    \t75020.0   \t70138\t4882.0\t0\n",
      "80\t69830.5\t5058.6    \t75020.0   \t70138\t4882.0\t0\n",
      "81\t69823.6\t5065.4    \t75023.0   \t70043\t4980.0\t0\n",
      "82\t69822.6\t5066.5    \t75023.0   \t70043\t4980.0\t0\n",
      "83\t69836.2\t5052.9    \t75023.0   \t70043\t4980.0\t0\n",
      "84\t69835.6\t5053.5    \t75023.0   \t70043\t4980.0\t0\n",
      "85\t69829.2\t5060.0    \t75020.0   \t70138\t4882.0\t0\n",
      "86\t69831.5\t5057.5    \t75020.0   \t70138\t4882.0\t0\n",
      "87\t69834.4\t5054.5    \t75020.0   \t70138\t4882.0\t0\n",
      "88\t69830.0\t5058.8    \t75020.0   \t70138\t4882.0\t0\n",
      "89\t69826.2\t5063.2    \t75020.0   \t70138\t4882.0\t0\n",
      "90\t69833.9\t5055.0    \t75020.0   \t70138\t4882.0\t0\n",
      "91\t69830.9\t5058.1    \t75020.0   \t70138\t4882.0\t0\n",
      "92\t69824.8\t5064.3    \t75020.0   \t70138\t4882.0\t0\n",
      "93\t69828.7\t5060.3    \t75020.0   \t70138\t4882.0\t0\n",
      "94\t69833.6\t5055.2    \t75020.0   \t70138\t4882.0\t0\n",
      "95\t69829.2\t5059.6    \t75020.0   \t70138\t4882.0\t0\n",
      "96\t69825.4\t5063.4    \t75020.0   \t70138\t4882.0\t0\n",
      "97\t69826.7\t5062.3    \t75020.0   \t70138\t4882.0\t0\n",
      "98\t69836.8\t5052.0    \t75020.0   \t70138\t4882.0\t0\n",
      "99\t69835.4\t5053.7    \t75020.0   \t70138\t4882.0\t0\n"
     ]
    }
   ],
   "source": [
    "for epoch in tqdm.tqdm_notebook(range(100)):\n",
    "    optimizer.zero_grad()\n",
    "    x, y, v= model()\n",
    "    loss = x + y + v\n",
    "    loss.backward()\n",
    "    optimizer.step()\n",
    "    \n",
    "    if epoch % 1 == 0:\n",
    "        pos = model.weight.argmax(1).cpu().numpy()\n",
    "        pred = []\n",
    "        for i in range(5000):\n",
    "            pred.append(data.iloc[i][f'choice_{pos[i]}'])\n",
    "        pred = np.array(pred)\n",
    "        a, b, v = cost_function(pred)\n",
    "        score = a + b\n",
    "        if (score < best_score) and v == 0:\n",
    "            best_score = score\n",
    "            best_pos = pred\n",
    "            print(best_score)\n",
    "            submission['assigned_day'] = best_pos\n",
    "            submission.to_csv(f'submission.csv')\n",
    "\n",
    "        x = np.round(x.item(),1)\n",
    "        y = np.round(y.item(),1)\n",
    "        print(f'{epoch}\\t{x}\\t{y}    \\t{np.round(score)}   \\t{a}\\t{np.round(b)}\\t{v}')"
   ]
  },
  {
   "cell_type": "code",
   "execution_count": null,
   "metadata": {},
   "outputs": [],
   "source": []
  }
 ],
 "metadata": {
  "kernelspec": {
   "display_name": "Python 3",
   "language": "python",
   "name": "python3"
  },
  "language_info": {
   "codemirror_mode": {
    "name": "ipython",
    "version": 3
   },
   "file_extension": ".py",
   "mimetype": "text/x-python",
   "name": "python",
   "nbconvert_exporter": "python",
   "pygments_lexer": "ipython3",
   "version": "3.6.8"
  },
  "toc": {
   "base_numbering": 1,
   "nav_menu": {},
   "number_sections": true,
   "sideBar": true,
   "skip_h1_title": false,
   "title_cell": "Table of Contents",
   "title_sidebar": "Contents",
   "toc_cell": false,
   "toc_position": {},
   "toc_section_display": true,
   "toc_window_display": false
  },
  "varInspector": {
   "cols": {
    "lenName": 16,
    "lenType": 16,
    "lenVar": 40
   },
   "kernels_config": {
    "python": {
     "delete_cmd_postfix": "",
     "delete_cmd_prefix": "del ",
     "library": "var_list.py",
     "varRefreshCmd": "print(var_dic_list())"
    },
    "r": {
     "delete_cmd_postfix": ") ",
     "delete_cmd_prefix": "rm(",
     "library": "var_list.r",
     "varRefreshCmd": "cat(var_dic_list()) "
    }
   },
   "types_to_exclude": [
    "module",
    "function",
    "builtin_function_or_method",
    "instance",
    "_Feature"
   ],
   "window_display": false
  }
 },
 "nbformat": 4,
 "nbformat_minor": 2
}
